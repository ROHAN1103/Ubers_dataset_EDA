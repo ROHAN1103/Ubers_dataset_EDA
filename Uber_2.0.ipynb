{
 "cells": [
  {
   "cell_type": "markdown",
   "metadata": {},
   "source": [
    "<h2 Style=\"text-align:center;color:#668891;margin:0px\"><b>UBER'S DATASET</b></h2>\n",
    "<h5 Style=\"text-align:center;color:#885889;margin:0px\"><i>Exploratory Data Analysis</i></h5>"
   ]
  },
  {
   "cell_type": "markdown",
   "metadata": {},
   "source": [
    "<h5 Style=\";color:lightgreen;margin:0px\">Importing Necessary Python Modules</h5>"
   ]
  },
  {
   "cell_type": "code",
   "execution_count": 2,
   "metadata": {},
   "outputs": [],
   "source": [
    "import pandas as pd\n",
    "import numpy as np\n",
    "import matplotlib.pyplot as plt\n",
    "import seaborn as sns\n",
    "import scipy.stats \n",
    "import datetime as dt"
   ]
  },
  {
   "cell_type": "markdown",
   "metadata": {},
   "source": [
    "<h5 Style=\"color:lightgreen;margin:0px\">Reading the Dataset</h5>\n",
    "<p style=\"text-size:10px, margin:0\">The datset was taken from the kaggel</p>\n",
    "<p style=\"text-size:10px, margin:0\"> For more info: <a>https://www.kaggle.com/datasets/yashdevladdha/uber-ride-analytics-dashboard</a></p>"
   ]
  },
  {
   "cell_type": "code",
   "execution_count": 3,
   "metadata": {},
   "outputs": [
    {
     "data": {
      "text/html": [
       "<div>\n",
       "<style scoped>\n",
       "    .dataframe tbody tr th:only-of-type {\n",
       "        vertical-align: middle;\n",
       "    }\n",
       "\n",
       "    .dataframe tbody tr th {\n",
       "        vertical-align: top;\n",
       "    }\n",
       "\n",
       "    .dataframe thead th {\n",
       "        text-align: right;\n",
       "    }\n",
       "</style>\n",
       "<table border=\"1\" class=\"dataframe\">\n",
       "  <thead>\n",
       "    <tr style=\"text-align: right;\">\n",
       "      <th></th>\n",
       "      <th>Date</th>\n",
       "      <th>Time</th>\n",
       "      <th>Booking ID</th>\n",
       "      <th>Booking Status</th>\n",
       "      <th>Customer ID</th>\n",
       "      <th>Vehicle Type</th>\n",
       "      <th>Pickup Location</th>\n",
       "      <th>Drop Location</th>\n",
       "      <th>Avg VTAT</th>\n",
       "      <th>Avg CTAT</th>\n",
       "      <th>...</th>\n",
       "      <th>Reason for cancelling by Customer</th>\n",
       "      <th>Cancelled Rides by Driver</th>\n",
       "      <th>Driver Cancellation Reason</th>\n",
       "      <th>Incomplete Rides</th>\n",
       "      <th>Incomplete Rides Reason</th>\n",
       "      <th>Booking Value</th>\n",
       "      <th>Ride Distance</th>\n",
       "      <th>Driver Ratings</th>\n",
       "      <th>Customer Rating</th>\n",
       "      <th>Payment Method</th>\n",
       "    </tr>\n",
       "  </thead>\n",
       "  <tbody>\n",
       "    <tr>\n",
       "      <th>0</th>\n",
       "      <td>2024-03-23</td>\n",
       "      <td>12:29:38</td>\n",
       "      <td>\"CNR5884300\"</td>\n",
       "      <td>No Driver Found</td>\n",
       "      <td>\"CID1982111\"</td>\n",
       "      <td>eBike</td>\n",
       "      <td>Palam Vihar</td>\n",
       "      <td>Jhilmil</td>\n",
       "      <td>NaN</td>\n",
       "      <td>NaN</td>\n",
       "      <td>...</td>\n",
       "      <td>NaN</td>\n",
       "      <td>NaN</td>\n",
       "      <td>NaN</td>\n",
       "      <td>NaN</td>\n",
       "      <td>NaN</td>\n",
       "      <td>NaN</td>\n",
       "      <td>NaN</td>\n",
       "      <td>NaN</td>\n",
       "      <td>NaN</td>\n",
       "      <td>NaN</td>\n",
       "    </tr>\n",
       "    <tr>\n",
       "      <th>1</th>\n",
       "      <td>2024-11-29</td>\n",
       "      <td>18:01:39</td>\n",
       "      <td>\"CNR1326809\"</td>\n",
       "      <td>Incomplete</td>\n",
       "      <td>\"CID4604802\"</td>\n",
       "      <td>Go Sedan</td>\n",
       "      <td>Shastri Nagar</td>\n",
       "      <td>Gurgaon Sector 56</td>\n",
       "      <td>4.9</td>\n",
       "      <td>14.0</td>\n",
       "      <td>...</td>\n",
       "      <td>NaN</td>\n",
       "      <td>NaN</td>\n",
       "      <td>NaN</td>\n",
       "      <td>1.0</td>\n",
       "      <td>Vehicle Breakdown</td>\n",
       "      <td>237.0</td>\n",
       "      <td>5.73</td>\n",
       "      <td>NaN</td>\n",
       "      <td>NaN</td>\n",
       "      <td>UPI</td>\n",
       "    </tr>\n",
       "    <tr>\n",
       "      <th>2</th>\n",
       "      <td>2024-08-23</td>\n",
       "      <td>08:56:10</td>\n",
       "      <td>\"CNR8494506\"</td>\n",
       "      <td>Completed</td>\n",
       "      <td>\"CID9202816\"</td>\n",
       "      <td>Auto</td>\n",
       "      <td>Khandsa</td>\n",
       "      <td>Malviya Nagar</td>\n",
       "      <td>13.4</td>\n",
       "      <td>25.8</td>\n",
       "      <td>...</td>\n",
       "      <td>NaN</td>\n",
       "      <td>NaN</td>\n",
       "      <td>NaN</td>\n",
       "      <td>NaN</td>\n",
       "      <td>NaN</td>\n",
       "      <td>627.0</td>\n",
       "      <td>13.58</td>\n",
       "      <td>4.9</td>\n",
       "      <td>4.9</td>\n",
       "      <td>Debit Card</td>\n",
       "    </tr>\n",
       "    <tr>\n",
       "      <th>3</th>\n",
       "      <td>2024-10-21</td>\n",
       "      <td>17:17:25</td>\n",
       "      <td>\"CNR8906825\"</td>\n",
       "      <td>Completed</td>\n",
       "      <td>\"CID2610914\"</td>\n",
       "      <td>Premier Sedan</td>\n",
       "      <td>Central Secretariat</td>\n",
       "      <td>Inderlok</td>\n",
       "      <td>13.1</td>\n",
       "      <td>28.5</td>\n",
       "      <td>...</td>\n",
       "      <td>NaN</td>\n",
       "      <td>NaN</td>\n",
       "      <td>NaN</td>\n",
       "      <td>NaN</td>\n",
       "      <td>NaN</td>\n",
       "      <td>416.0</td>\n",
       "      <td>34.02</td>\n",
       "      <td>4.6</td>\n",
       "      <td>5.0</td>\n",
       "      <td>UPI</td>\n",
       "    </tr>\n",
       "    <tr>\n",
       "      <th>4</th>\n",
       "      <td>2024-09-16</td>\n",
       "      <td>22:08:00</td>\n",
       "      <td>\"CNR1950162\"</td>\n",
       "      <td>Completed</td>\n",
       "      <td>\"CID9933542\"</td>\n",
       "      <td>Bike</td>\n",
       "      <td>Ghitorni Village</td>\n",
       "      <td>Khan Market</td>\n",
       "      <td>5.3</td>\n",
       "      <td>19.6</td>\n",
       "      <td>...</td>\n",
       "      <td>NaN</td>\n",
       "      <td>NaN</td>\n",
       "      <td>NaN</td>\n",
       "      <td>NaN</td>\n",
       "      <td>NaN</td>\n",
       "      <td>737.0</td>\n",
       "      <td>48.21</td>\n",
       "      <td>4.1</td>\n",
       "      <td>4.3</td>\n",
       "      <td>UPI</td>\n",
       "    </tr>\n",
       "  </tbody>\n",
       "</table>\n",
       "<p>5 rows × 21 columns</p>\n",
       "</div>"
      ],
      "text/plain": [
       "         Date      Time    Booking ID   Booking Status   Customer ID  \\\n",
       "0  2024-03-23  12:29:38  \"CNR5884300\"  No Driver Found  \"CID1982111\"   \n",
       "1  2024-11-29  18:01:39  \"CNR1326809\"       Incomplete  \"CID4604802\"   \n",
       "2  2024-08-23  08:56:10  \"CNR8494506\"        Completed  \"CID9202816\"   \n",
       "3  2024-10-21  17:17:25  \"CNR8906825\"        Completed  \"CID2610914\"   \n",
       "4  2024-09-16  22:08:00  \"CNR1950162\"        Completed  \"CID9933542\"   \n",
       "\n",
       "    Vehicle Type      Pickup Location      Drop Location  Avg VTAT  Avg CTAT  \\\n",
       "0          eBike          Palam Vihar            Jhilmil       NaN       NaN   \n",
       "1       Go Sedan        Shastri Nagar  Gurgaon Sector 56       4.9      14.0   \n",
       "2           Auto              Khandsa      Malviya Nagar      13.4      25.8   \n",
       "3  Premier Sedan  Central Secretariat           Inderlok      13.1      28.5   \n",
       "4           Bike     Ghitorni Village        Khan Market       5.3      19.6   \n",
       "\n",
       "   ...  Reason for cancelling by Customer Cancelled Rides by Driver  \\\n",
       "0  ...                                NaN                       NaN   \n",
       "1  ...                                NaN                       NaN   \n",
       "2  ...                                NaN                       NaN   \n",
       "3  ...                                NaN                       NaN   \n",
       "4  ...                                NaN                       NaN   \n",
       "\n",
       "   Driver Cancellation Reason Incomplete Rides  Incomplete Rides Reason  \\\n",
       "0                         NaN              NaN                      NaN   \n",
       "1                         NaN              1.0        Vehicle Breakdown   \n",
       "2                         NaN              NaN                      NaN   \n",
       "3                         NaN              NaN                      NaN   \n",
       "4                         NaN              NaN                      NaN   \n",
       "\n",
       "  Booking Value  Ride Distance  Driver Ratings  Customer Rating  \\\n",
       "0           NaN            NaN             NaN              NaN   \n",
       "1         237.0           5.73             NaN              NaN   \n",
       "2         627.0          13.58             4.9              4.9   \n",
       "3         416.0          34.02             4.6              5.0   \n",
       "4         737.0          48.21             4.1              4.3   \n",
       "\n",
       "   Payment Method  \n",
       "0             NaN  \n",
       "1             UPI  \n",
       "2      Debit Card  \n",
       "3             UPI  \n",
       "4             UPI  \n",
       "\n",
       "[5 rows x 21 columns]"
      ]
     },
     "execution_count": 3,
     "metadata": {},
     "output_type": "execute_result"
    }
   ],
   "source": [
    "data=pd.read_csv('ncr_ride_bookings.csv')\n",
    "data.head()"
   ]
  },
  {
   "cell_type": "markdown",
   "metadata": {},
   "source": [
    "<p style=\"text-size:10px;color:red; margin:0\">-->Columns of the dataset</p>"
   ]
  },
  {
   "cell_type": "code",
   "execution_count": 4,
   "metadata": {},
   "outputs": [
    {
     "data": {
      "text/plain": [
       "Index(['Date', 'Time', 'Booking ID', 'Booking Status', 'Customer ID',\n",
       "       'Vehicle Type', 'Pickup Location', 'Drop Location', 'Avg VTAT',\n",
       "       'Avg CTAT', 'Cancelled Rides by Customer',\n",
       "       'Reason for cancelling by Customer', 'Cancelled Rides by Driver',\n",
       "       'Driver Cancellation Reason', 'Incomplete Rides',\n",
       "       'Incomplete Rides Reason', 'Booking Value', 'Ride Distance',\n",
       "       'Driver Ratings', 'Customer Rating', 'Payment Method'],\n",
       "      dtype='object')"
      ]
     },
     "execution_count": 4,
     "metadata": {},
     "output_type": "execute_result"
    }
   ],
   "source": [
    "columns=data.columns\n",
    "columns"
   ]
  },
  {
   "cell_type": "markdown",
   "metadata": {},
   "source": [
    "<h5 style=\"color:red; text-size:10px\">-->Knowing about the datset</h5>"
   ]
  },
  {
   "cell_type": "code",
   "execution_count": 5,
   "metadata": {},
   "outputs": [
    {
     "data": {
      "text/plain": [
       "(150000, 21)"
      ]
     },
     "execution_count": 5,
     "metadata": {},
     "output_type": "execute_result"
    }
   ],
   "source": [
    "data.shape"
   ]
  },
  {
   "cell_type": "code",
   "execution_count": 6,
   "metadata": {},
   "outputs": [
    {
     "name": "stdout",
     "output_type": "stream",
     "text": [
      "<class 'pandas.core.frame.DataFrame'>\n",
      "RangeIndex: 150000 entries, 0 to 149999\n",
      "Data columns (total 21 columns):\n",
      " #   Column                             Non-Null Count   Dtype  \n",
      "---  ------                             --------------   -----  \n",
      " 0   Date                               150000 non-null  object \n",
      " 1   Time                               150000 non-null  object \n",
      " 2   Booking ID                         150000 non-null  object \n",
      " 3   Booking Status                     150000 non-null  object \n",
      " 4   Customer ID                        150000 non-null  object \n",
      " 5   Vehicle Type                       150000 non-null  object \n",
      " 6   Pickup Location                    150000 non-null  object \n",
      " 7   Drop Location                      150000 non-null  object \n",
      " 8   Avg VTAT                           139500 non-null  float64\n",
      " 9   Avg CTAT                           102000 non-null  float64\n",
      " 10  Cancelled Rides by Customer        10500 non-null   float64\n",
      " 11  Reason for cancelling by Customer  10500 non-null   object \n",
      " 12  Cancelled Rides by Driver          27000 non-null   float64\n",
      " 13  Driver Cancellation Reason         27000 non-null   object \n",
      " 14  Incomplete Rides                   9000 non-null    float64\n",
      " 15  Incomplete Rides Reason            9000 non-null    object \n",
      " 16  Booking Value                      102000 non-null  float64\n",
      " 17  Ride Distance                      102000 non-null  float64\n",
      " 18  Driver Ratings                     93000 non-null   float64\n",
      " 19  Customer Rating                    93000 non-null   float64\n",
      " 20  Payment Method                     102000 non-null  object \n",
      "dtypes: float64(9), object(12)\n",
      "memory usage: 24.0+ MB\n"
     ]
    }
   ],
   "source": [
    "data.info()"
   ]
  },
  {
   "cell_type": "code",
   "execution_count": 7,
   "metadata": {},
   "outputs": [
    {
     "data": {
      "text/html": [
       "<div>\n",
       "<style scoped>\n",
       "    .dataframe tbody tr th:only-of-type {\n",
       "        vertical-align: middle;\n",
       "    }\n",
       "\n",
       "    .dataframe tbody tr th {\n",
       "        vertical-align: top;\n",
       "    }\n",
       "\n",
       "    .dataframe thead th {\n",
       "        text-align: right;\n",
       "    }\n",
       "</style>\n",
       "<table border=\"1\" class=\"dataframe\">\n",
       "  <thead>\n",
       "    <tr style=\"text-align: right;\">\n",
       "      <th></th>\n",
       "      <th>Avg VTAT</th>\n",
       "      <th>Avg CTAT</th>\n",
       "      <th>Cancelled Rides by Customer</th>\n",
       "      <th>Cancelled Rides by Driver</th>\n",
       "      <th>Incomplete Rides</th>\n",
       "      <th>Booking Value</th>\n",
       "      <th>Ride Distance</th>\n",
       "      <th>Driver Ratings</th>\n",
       "      <th>Customer Rating</th>\n",
       "    </tr>\n",
       "  </thead>\n",
       "  <tbody>\n",
       "    <tr>\n",
       "      <th>count</th>\n",
       "      <td>139500.000000</td>\n",
       "      <td>102000.000000</td>\n",
       "      <td>10500.0</td>\n",
       "      <td>27000.0</td>\n",
       "      <td>9000.0</td>\n",
       "      <td>102000.000000</td>\n",
       "      <td>102000.000000</td>\n",
       "      <td>93000.000000</td>\n",
       "      <td>93000.000000</td>\n",
       "    </tr>\n",
       "    <tr>\n",
       "      <th>mean</th>\n",
       "      <td>8.456352</td>\n",
       "      <td>29.149636</td>\n",
       "      <td>1.0</td>\n",
       "      <td>1.0</td>\n",
       "      <td>1.0</td>\n",
       "      <td>508.295912</td>\n",
       "      <td>24.637012</td>\n",
       "      <td>4.230992</td>\n",
       "      <td>4.404584</td>\n",
       "    </tr>\n",
       "    <tr>\n",
       "      <th>std</th>\n",
       "      <td>3.773564</td>\n",
       "      <td>8.902577</td>\n",
       "      <td>0.0</td>\n",
       "      <td>0.0</td>\n",
       "      <td>0.0</td>\n",
       "      <td>395.805774</td>\n",
       "      <td>14.002138</td>\n",
       "      <td>0.436871</td>\n",
       "      <td>0.437819</td>\n",
       "    </tr>\n",
       "    <tr>\n",
       "      <th>min</th>\n",
       "      <td>2.000000</td>\n",
       "      <td>10.000000</td>\n",
       "      <td>1.0</td>\n",
       "      <td>1.0</td>\n",
       "      <td>1.0</td>\n",
       "      <td>50.000000</td>\n",
       "      <td>1.000000</td>\n",
       "      <td>3.000000</td>\n",
       "      <td>3.000000</td>\n",
       "    </tr>\n",
       "    <tr>\n",
       "      <th>25%</th>\n",
       "      <td>5.300000</td>\n",
       "      <td>21.600000</td>\n",
       "      <td>1.0</td>\n",
       "      <td>1.0</td>\n",
       "      <td>1.0</td>\n",
       "      <td>234.000000</td>\n",
       "      <td>12.460000</td>\n",
       "      <td>4.100000</td>\n",
       "      <td>4.200000</td>\n",
       "    </tr>\n",
       "    <tr>\n",
       "      <th>50%</th>\n",
       "      <td>8.300000</td>\n",
       "      <td>28.800000</td>\n",
       "      <td>1.0</td>\n",
       "      <td>1.0</td>\n",
       "      <td>1.0</td>\n",
       "      <td>414.000000</td>\n",
       "      <td>23.720000</td>\n",
       "      <td>4.300000</td>\n",
       "      <td>4.500000</td>\n",
       "    </tr>\n",
       "    <tr>\n",
       "      <th>75%</th>\n",
       "      <td>11.300000</td>\n",
       "      <td>36.800000</td>\n",
       "      <td>1.0</td>\n",
       "      <td>1.0</td>\n",
       "      <td>1.0</td>\n",
       "      <td>689.000000</td>\n",
       "      <td>36.820000</td>\n",
       "      <td>4.600000</td>\n",
       "      <td>4.800000</td>\n",
       "    </tr>\n",
       "    <tr>\n",
       "      <th>max</th>\n",
       "      <td>20.000000</td>\n",
       "      <td>45.000000</td>\n",
       "      <td>1.0</td>\n",
       "      <td>1.0</td>\n",
       "      <td>1.0</td>\n",
       "      <td>4277.000000</td>\n",
       "      <td>50.000000</td>\n",
       "      <td>5.000000</td>\n",
       "      <td>5.000000</td>\n",
       "    </tr>\n",
       "  </tbody>\n",
       "</table>\n",
       "</div>"
      ],
      "text/plain": [
       "            Avg VTAT       Avg CTAT  Cancelled Rides by Customer  \\\n",
       "count  139500.000000  102000.000000                      10500.0   \n",
       "mean        8.456352      29.149636                          1.0   \n",
       "std         3.773564       8.902577                          0.0   \n",
       "min         2.000000      10.000000                          1.0   \n",
       "25%         5.300000      21.600000                          1.0   \n",
       "50%         8.300000      28.800000                          1.0   \n",
       "75%        11.300000      36.800000                          1.0   \n",
       "max        20.000000      45.000000                          1.0   \n",
       "\n",
       "       Cancelled Rides by Driver  Incomplete Rides  Booking Value  \\\n",
       "count                    27000.0            9000.0  102000.000000   \n",
       "mean                         1.0               1.0     508.295912   \n",
       "std                          0.0               0.0     395.805774   \n",
       "min                          1.0               1.0      50.000000   \n",
       "25%                          1.0               1.0     234.000000   \n",
       "50%                          1.0               1.0     414.000000   \n",
       "75%                          1.0               1.0     689.000000   \n",
       "max                          1.0               1.0    4277.000000   \n",
       "\n",
       "       Ride Distance  Driver Ratings  Customer Rating  \n",
       "count  102000.000000    93000.000000     93000.000000  \n",
       "mean       24.637012        4.230992         4.404584  \n",
       "std        14.002138        0.436871         0.437819  \n",
       "min         1.000000        3.000000         3.000000  \n",
       "25%        12.460000        4.100000         4.200000  \n",
       "50%        23.720000        4.300000         4.500000  \n",
       "75%        36.820000        4.600000         4.800000  \n",
       "max        50.000000        5.000000         5.000000  "
      ]
     },
     "execution_count": 7,
     "metadata": {},
     "output_type": "execute_result"
    }
   ],
   "source": [
    "data.describe()"
   ]
  },
  {
   "cell_type": "code",
   "execution_count": 8,
   "metadata": {},
   "outputs": [
    {
     "data": {
      "text/html": [
       "<div>\n",
       "<style scoped>\n",
       "    .dataframe tbody tr th:only-of-type {\n",
       "        vertical-align: middle;\n",
       "    }\n",
       "\n",
       "    .dataframe tbody tr th {\n",
       "        vertical-align: top;\n",
       "    }\n",
       "\n",
       "    .dataframe thead th {\n",
       "        text-align: right;\n",
       "    }\n",
       "</style>\n",
       "<table border=\"1\" class=\"dataframe\">\n",
       "  <thead>\n",
       "    <tr style=\"text-align: right;\">\n",
       "      <th></th>\n",
       "      <th>Date</th>\n",
       "      <th>Time</th>\n",
       "      <th>Booking ID</th>\n",
       "      <th>Booking Status</th>\n",
       "      <th>Customer ID</th>\n",
       "      <th>Vehicle Type</th>\n",
       "      <th>Pickup Location</th>\n",
       "      <th>Drop Location</th>\n",
       "      <th>Reason for cancelling by Customer</th>\n",
       "      <th>Driver Cancellation Reason</th>\n",
       "      <th>Incomplete Rides Reason</th>\n",
       "      <th>Payment Method</th>\n",
       "    </tr>\n",
       "  </thead>\n",
       "  <tbody>\n",
       "    <tr>\n",
       "      <th>count</th>\n",
       "      <td>150000</td>\n",
       "      <td>150000</td>\n",
       "      <td>150000</td>\n",
       "      <td>150000</td>\n",
       "      <td>150000</td>\n",
       "      <td>150000</td>\n",
       "      <td>150000</td>\n",
       "      <td>150000</td>\n",
       "      <td>10500</td>\n",
       "      <td>27000</td>\n",
       "      <td>9000</td>\n",
       "      <td>102000</td>\n",
       "    </tr>\n",
       "    <tr>\n",
       "      <th>unique</th>\n",
       "      <td>365</td>\n",
       "      <td>62910</td>\n",
       "      <td>148767</td>\n",
       "      <td>5</td>\n",
       "      <td>148788</td>\n",
       "      <td>7</td>\n",
       "      <td>176</td>\n",
       "      <td>176</td>\n",
       "      <td>5</td>\n",
       "      <td>4</td>\n",
       "      <td>3</td>\n",
       "      <td>5</td>\n",
       "    </tr>\n",
       "    <tr>\n",
       "      <th>top</th>\n",
       "      <td>2024-11-16</td>\n",
       "      <td>17:44:57</td>\n",
       "      <td>\"CNR7908610\"</td>\n",
       "      <td>Completed</td>\n",
       "      <td>\"CID4523979\"</td>\n",
       "      <td>Auto</td>\n",
       "      <td>Khandsa</td>\n",
       "      <td>Ashram</td>\n",
       "      <td>Wrong Address</td>\n",
       "      <td>Customer related issue</td>\n",
       "      <td>Customer Demand</td>\n",
       "      <td>UPI</td>\n",
       "    </tr>\n",
       "    <tr>\n",
       "      <th>freq</th>\n",
       "      <td>462</td>\n",
       "      <td>16</td>\n",
       "      <td>3</td>\n",
       "      <td>93000</td>\n",
       "      <td>3</td>\n",
       "      <td>37419</td>\n",
       "      <td>949</td>\n",
       "      <td>936</td>\n",
       "      <td>2362</td>\n",
       "      <td>6837</td>\n",
       "      <td>3040</td>\n",
       "      <td>45909</td>\n",
       "    </tr>\n",
       "  </tbody>\n",
       "</table>\n",
       "</div>"
      ],
      "text/plain": [
       "              Date      Time    Booking ID Booking Status   Customer ID  \\\n",
       "count       150000    150000        150000         150000        150000   \n",
       "unique         365     62910        148767              5        148788   \n",
       "top     2024-11-16  17:44:57  \"CNR7908610\"      Completed  \"CID4523979\"   \n",
       "freq           462        16             3          93000             3   \n",
       "\n",
       "       Vehicle Type Pickup Location Drop Location  \\\n",
       "count        150000          150000        150000   \n",
       "unique            7             176           176   \n",
       "top            Auto         Khandsa        Ashram   \n",
       "freq          37419             949           936   \n",
       "\n",
       "       Reason for cancelling by Customer Driver Cancellation Reason  \\\n",
       "count                              10500                      27000   \n",
       "unique                                 5                          4   \n",
       "top                        Wrong Address     Customer related issue   \n",
       "freq                                2362                       6837   \n",
       "\n",
       "       Incomplete Rides Reason Payment Method  \n",
       "count                     9000         102000  \n",
       "unique                       3              5  \n",
       "top            Customer Demand            UPI  \n",
       "freq                      3040          45909  "
      ]
     },
     "execution_count": 8,
     "metadata": {},
     "output_type": "execute_result"
    }
   ],
   "source": [
    "data.describe(include='object')"
   ]
  },
  {
   "cell_type": "markdown",
   "metadata": {},
   "source": [
    "<h5 style=\"color:red; text-size:10px\">-->Booking Status of the vehicals by the customers</h5>"
   ]
  },
  {
   "cell_type": "code",
   "execution_count": 9,
   "metadata": {},
   "outputs": [
    {
     "data": {
      "text/plain": [
       "Booking Status\n",
       "Completed                93000\n",
       "Cancelled by Driver      27000\n",
       "No Driver Found          10500\n",
       "Cancelled by Customer    10500\n",
       "Incomplete                9000\n",
       "Name: count, dtype: int64"
      ]
     },
     "execution_count": 9,
     "metadata": {},
     "output_type": "execute_result"
    }
   ],
   "source": [
    "data['Booking Status'].value_counts()"
   ]
  },
  {
   "cell_type": "code",
   "execution_count": 108,
   "metadata": {},
   "outputs": [
    {
     "data": {
      "image/png": "[encoded data removed]",
      "text/plain": [
       "<Figure size 1200x500 with 1 Axes>"
      ]
     },
     "metadata": {},
     "output_type": "display_data"
    }
   ],
   "source": [
    "plt.figure(figsize=(12,5))\n",
    "graph=sns.countplot(data['Booking Status'])\n",
    "for con in graph.containers:\n",
    "    graph.bar_label(con)\n",
    "    plt.title('Values of the \"Booking Status\" columns')"
   ]
  },
  {
   "cell_type": "markdown",
   "metadata": {},
   "source": [
    "<h5 style=\"color:red; text-size:10px\">-->Types of Vehicle are running by UBER</h5>"
   ]
  },
  {
   "cell_type": "code",
   "execution_count": 109,
   "metadata": {},
   "outputs": [
    {
     "data": {
      "image/png": "[encoded data removed]",
      "text/plain": [
       "<Figure size 1200x500 with 1 Axes>"
      ]
     },
     "metadata": {},
     "output_type": "display_data"
    }
   ],
   "source": [
    "plt.figure(figsize=(12,5))\n",
    "grf=sns.countplot(data['Vehicle Type'])\n",
    "for container in grf.containers:\n",
    "    grf.bar_label(container)\n",
    "plt.title('Types of vehicles run by the Uber and thier corresponding total raids' )\n",
    "plt.show()\n"
   ]
  },
  {
   "cell_type": "markdown",
   "metadata": {},
   "source": [
    "<h5 style=\"color:red; text-size:10px\">-->Types of payment made by the customer </h5>"
   ]
  },
  {
   "cell_type": "code",
   "execution_count": 110,
   "metadata": {},
   "outputs": [
    {
     "data": {
      "image/png": "[encoded data removed]",
      "text/plain": [
       "<Figure size 1200x500 with 1 Axes>"
      ]
     },
     "metadata": {},
     "output_type": "display_data"
    }
   ],
   "source": [
    "plt.figure(figsize=(12,5))\n",
    "grf=sns.countplot(data['Payment Method'])\n",
    "for container in grf.containers:\n",
    "    grf.bar_label(container)\n",
    "plt.title('Different types of Payments methods used by the customers')\n",
    "plt.show()"
   ]
  },
  {
   "cell_type": "markdown",
   "metadata": {},
   "source": [
    "<h4 style=\"text-align:center; color:orange;\">Cleaning the dataset and handling missing values</h4>"
   ]
  },
  {
   "cell_type": "markdown",
   "metadata": {},
   "source": [
    "<h5>1. Removing the rows from the dataset where the raids are cancelled because of the reason <b>\"NO Driver Found\"</b></h5>"
   ]
  },
  {
   "cell_type": "code",
   "execution_count": 17,
   "metadata": {},
   "outputs": [
    {
     "data": {
      "text/plain": [
       "(139500, 21)"
      ]
     },
     "execution_count": 17,
     "metadata": {},
     "output_type": "execute_result"
    }
   ],
   "source": [
    "data=data[data['Booking Status']!='No Driver Found']\n",
    "data.shape"
   ]
  },
  {
   "cell_type": "code",
   "execution_count": 112,
   "metadata": {},
   "outputs": [
    {
     "data": {
      "image/png": "[encoded data removed]",
      "text/plain": [
       "<Figure size 1200x500 with 1 Axes>"
      ]
     },
     "metadata": {},
     "output_type": "display_data"
    }
   ],
   "source": [
    "plt.figure(figsize=(12,5))\n",
    "graph=sns.countplot(data['Booking Status'])\n",
    "for con in graph.containers:\n",
    "    graph.bar_label(con)\n",
    "plt.title('Updated Booking Status values and its counts after removing the value \"No driver found\"')\n",
    "plt.show()"
   ]
  },
  {
   "cell_type": "markdown",
   "metadata": {},
   "source": [
    "<h5>2. Counting the null values</h5>"
   ]
  },
  {
   "cell_type": "code",
   "execution_count": 20,
   "metadata": {},
   "outputs": [
    {
     "data": {
      "text/plain": [
       "Date                                      0\n",
       "Time                                      0\n",
       "Booking ID                                0\n",
       "Booking Status                            0\n",
       "Customer ID                               0\n",
       "Vehicle Type                              0\n",
       "Pickup Location                           0\n",
       "Drop Location                             0\n",
       "Avg VTAT                                  0\n",
       "Avg CTAT                              37500\n",
       "Cancelled Rides by Customer          129000\n",
       "Reason for cancelling by Customer    129000\n",
       "Cancelled Rides by Driver            112500\n",
       "Driver Cancellation Reason           112500\n",
       "Incomplete Rides                     130500\n",
       "Incomplete Rides Reason              130500\n",
       "Booking Value                         37500\n",
       "Ride Distance                         37500\n",
       "Driver Ratings                        46500\n",
       "Customer Rating                       46500\n",
       "Payment Method                        37500\n",
       "null_counter                              0\n",
       "dtype: int64"
      ]
     },
     "execution_count": 20,
     "metadata": {},
     "output_type": "execute_result"
    }
   ],
   "source": [
    "data.isnull().sum()"
   ]
  },
  {
   "cell_type": "code",
   "execution_count": 21,
   "metadata": {},
   "outputs": [
    {
     "data": {
      "text/plain": [
       "(139500, 22)"
      ]
     },
     "execution_count": 21,
     "metadata": {},
     "output_type": "execute_result"
    }
   ],
   "source": [
    "# counting the null values across the rows\n",
    "data['null_counter']=data.isnull().sum(axis=1)\n",
    "data.shape"
   ]
  },
  {
   "cell_type": "code",
   "execution_count": 22,
   "metadata": {},
   "outputs": [
    {
     "data": {
      "text/plain": [
       "(139500, 22)"
      ]
     },
     "execution_count": 22,
     "metadata": {},
     "output_type": "execute_result"
    }
   ],
   "source": [
    "# Removing the the rows which has most null values and unsucessfull raids\n",
    "data=data[data['null_counter']!=13]\n",
    "data.shape"
   ]
  },
  {
   "cell_type": "code",
   "execution_count": 23,
   "metadata": {},
   "outputs": [
    {
     "data": {
      "text/html": [
       "<div>\n",
       "<style scoped>\n",
       "    .dataframe tbody tr th:only-of-type {\n",
       "        vertical-align: middle;\n",
       "    }\n",
       "\n",
       "    .dataframe tbody tr th {\n",
       "        vertical-align: top;\n",
       "    }\n",
       "\n",
       "    .dataframe thead th {\n",
       "        text-align: right;\n",
       "    }\n",
       "</style>\n",
       "<table border=\"1\" class=\"dataframe\">\n",
       "  <thead>\n",
       "    <tr style=\"text-align: right;\">\n",
       "      <th></th>\n",
       "      <th>Date</th>\n",
       "      <th>Time</th>\n",
       "      <th>Booking Status</th>\n",
       "      <th>Vehicle Type</th>\n",
       "      <th>Pickup Location</th>\n",
       "      <th>Drop Location</th>\n",
       "      <th>Avg VTAT</th>\n",
       "      <th>Avg CTAT</th>\n",
       "      <th>Cancelled Rides by Customer</th>\n",
       "      <th>Reason for cancelling by Customer</th>\n",
       "      <th>Cancelled Rides by Driver</th>\n",
       "      <th>Driver Cancellation Reason</th>\n",
       "      <th>Incomplete Rides</th>\n",
       "      <th>Incomplete Rides Reason</th>\n",
       "      <th>Booking Value</th>\n",
       "      <th>Ride Distance</th>\n",
       "      <th>Driver Ratings</th>\n",
       "      <th>Customer Rating</th>\n",
       "      <th>Payment Method</th>\n",
       "      <th>null_counter</th>\n",
       "    </tr>\n",
       "  </thead>\n",
       "  <tbody>\n",
       "    <tr>\n",
       "      <th>1</th>\n",
       "      <td>2024-11-29</td>\n",
       "      <td>18:01:39</td>\n",
       "      <td>Incomplete</td>\n",
       "      <td>Go Sedan</td>\n",
       "      <td>Shastri Nagar</td>\n",
       "      <td>Gurgaon Sector 56</td>\n",
       "      <td>4.9</td>\n",
       "      <td>14.0</td>\n",
       "      <td>NaN</td>\n",
       "      <td>NaN</td>\n",
       "      <td>NaN</td>\n",
       "      <td>NaN</td>\n",
       "      <td>1.0</td>\n",
       "      <td>Vehicle Breakdown</td>\n",
       "      <td>237.0</td>\n",
       "      <td>5.73</td>\n",
       "      <td>NaN</td>\n",
       "      <td>NaN</td>\n",
       "      <td>UPI</td>\n",
       "      <td>6</td>\n",
       "    </tr>\n",
       "    <tr>\n",
       "      <th>2</th>\n",
       "      <td>2024-08-23</td>\n",
       "      <td>08:56:10</td>\n",
       "      <td>Completed</td>\n",
       "      <td>Auto</td>\n",
       "      <td>Khandsa</td>\n",
       "      <td>Malviya Nagar</td>\n",
       "      <td>13.4</td>\n",
       "      <td>25.8</td>\n",
       "      <td>NaN</td>\n",
       "      <td>NaN</td>\n",
       "      <td>NaN</td>\n",
       "      <td>NaN</td>\n",
       "      <td>NaN</td>\n",
       "      <td>NaN</td>\n",
       "      <td>627.0</td>\n",
       "      <td>13.58</td>\n",
       "      <td>4.9</td>\n",
       "      <td>4.9</td>\n",
       "      <td>Debit Card</td>\n",
       "      <td>6</td>\n",
       "    </tr>\n",
       "    <tr>\n",
       "      <th>3</th>\n",
       "      <td>2024-10-21</td>\n",
       "      <td>17:17:25</td>\n",
       "      <td>Completed</td>\n",
       "      <td>Premier Sedan</td>\n",
       "      <td>Central Secretariat</td>\n",
       "      <td>Inderlok</td>\n",
       "      <td>13.1</td>\n",
       "      <td>28.5</td>\n",
       "      <td>NaN</td>\n",
       "      <td>NaN</td>\n",
       "      <td>NaN</td>\n",
       "      <td>NaN</td>\n",
       "      <td>NaN</td>\n",
       "      <td>NaN</td>\n",
       "      <td>416.0</td>\n",
       "      <td>34.02</td>\n",
       "      <td>4.6</td>\n",
       "      <td>5.0</td>\n",
       "      <td>UPI</td>\n",
       "      <td>6</td>\n",
       "    </tr>\n",
       "    <tr>\n",
       "      <th>4</th>\n",
       "      <td>2024-09-16</td>\n",
       "      <td>22:08:00</td>\n",
       "      <td>Completed</td>\n",
       "      <td>Bike</td>\n",
       "      <td>Ghitorni Village</td>\n",
       "      <td>Khan Market</td>\n",
       "      <td>5.3</td>\n",
       "      <td>19.6</td>\n",
       "      <td>NaN</td>\n",
       "      <td>NaN</td>\n",
       "      <td>NaN</td>\n",
       "      <td>NaN</td>\n",
       "      <td>NaN</td>\n",
       "      <td>NaN</td>\n",
       "      <td>737.0</td>\n",
       "      <td>48.21</td>\n",
       "      <td>4.1</td>\n",
       "      <td>4.3</td>\n",
       "      <td>UPI</td>\n",
       "      <td>6</td>\n",
       "    </tr>\n",
       "    <tr>\n",
       "      <th>5</th>\n",
       "      <td>2024-02-06</td>\n",
       "      <td>09:44:56</td>\n",
       "      <td>Completed</td>\n",
       "      <td>Auto</td>\n",
       "      <td>AIIMS</td>\n",
       "      <td>Narsinghpur</td>\n",
       "      <td>5.1</td>\n",
       "      <td>18.1</td>\n",
       "      <td>NaN</td>\n",
       "      <td>NaN</td>\n",
       "      <td>NaN</td>\n",
       "      <td>NaN</td>\n",
       "      <td>NaN</td>\n",
       "      <td>NaN</td>\n",
       "      <td>316.0</td>\n",
       "      <td>4.85</td>\n",
       "      <td>4.1</td>\n",
       "      <td>4.6</td>\n",
       "      <td>UPI</td>\n",
       "      <td>6</td>\n",
       "    </tr>\n",
       "    <tr>\n",
       "      <th>...</th>\n",
       "      <td>...</td>\n",
       "      <td>...</td>\n",
       "      <td>...</td>\n",
       "      <td>...</td>\n",
       "      <td>...</td>\n",
       "      <td>...</td>\n",
       "      <td>...</td>\n",
       "      <td>...</td>\n",
       "      <td>...</td>\n",
       "      <td>...</td>\n",
       "      <td>...</td>\n",
       "      <td>...</td>\n",
       "      <td>...</td>\n",
       "      <td>...</td>\n",
       "      <td>...</td>\n",
       "      <td>...</td>\n",
       "      <td>...</td>\n",
       "      <td>...</td>\n",
       "      <td>...</td>\n",
       "      <td>...</td>\n",
       "    </tr>\n",
       "    <tr>\n",
       "      <th>149995</th>\n",
       "      <td>2024-11-11</td>\n",
       "      <td>19:34:01</td>\n",
       "      <td>Completed</td>\n",
       "      <td>Go Mini</td>\n",
       "      <td>MG Road</td>\n",
       "      <td>Ghitorni</td>\n",
       "      <td>10.2</td>\n",
       "      <td>44.4</td>\n",
       "      <td>NaN</td>\n",
       "      <td>NaN</td>\n",
       "      <td>NaN</td>\n",
       "      <td>NaN</td>\n",
       "      <td>NaN</td>\n",
       "      <td>NaN</td>\n",
       "      <td>475.0</td>\n",
       "      <td>40.08</td>\n",
       "      <td>3.7</td>\n",
       "      <td>4.1</td>\n",
       "      <td>Uber Wallet</td>\n",
       "      <td>6</td>\n",
       "    </tr>\n",
       "    <tr>\n",
       "      <th>149996</th>\n",
       "      <td>2024-11-24</td>\n",
       "      <td>15:55:09</td>\n",
       "      <td>Completed</td>\n",
       "      <td>Go Mini</td>\n",
       "      <td>Golf Course Road</td>\n",
       "      <td>Akshardham</td>\n",
       "      <td>5.1</td>\n",
       "      <td>30.8</td>\n",
       "      <td>NaN</td>\n",
       "      <td>NaN</td>\n",
       "      <td>NaN</td>\n",
       "      <td>NaN</td>\n",
       "      <td>NaN</td>\n",
       "      <td>NaN</td>\n",
       "      <td>1093.0</td>\n",
       "      <td>21.31</td>\n",
       "      <td>4.8</td>\n",
       "      <td>5.0</td>\n",
       "      <td>UPI</td>\n",
       "      <td>6</td>\n",
       "    </tr>\n",
       "    <tr>\n",
       "      <th>149997</th>\n",
       "      <td>2024-09-18</td>\n",
       "      <td>10:55:15</td>\n",
       "      <td>Completed</td>\n",
       "      <td>Go Sedan</td>\n",
       "      <td>Satguru Ram Singh Marg</td>\n",
       "      <td>Jor Bagh</td>\n",
       "      <td>2.7</td>\n",
       "      <td>23.4</td>\n",
       "      <td>NaN</td>\n",
       "      <td>NaN</td>\n",
       "      <td>NaN</td>\n",
       "      <td>NaN</td>\n",
       "      <td>NaN</td>\n",
       "      <td>NaN</td>\n",
       "      <td>852.0</td>\n",
       "      <td>15.93</td>\n",
       "      <td>3.9</td>\n",
       "      <td>4.4</td>\n",
       "      <td>Cash</td>\n",
       "      <td>6</td>\n",
       "    </tr>\n",
       "    <tr>\n",
       "      <th>149998</th>\n",
       "      <td>2024-10-05</td>\n",
       "      <td>07:53:34</td>\n",
       "      <td>Completed</td>\n",
       "      <td>Auto</td>\n",
       "      <td>Ghaziabad</td>\n",
       "      <td>Saidulajab</td>\n",
       "      <td>6.9</td>\n",
       "      <td>39.6</td>\n",
       "      <td>NaN</td>\n",
       "      <td>NaN</td>\n",
       "      <td>NaN</td>\n",
       "      <td>NaN</td>\n",
       "      <td>NaN</td>\n",
       "      <td>NaN</td>\n",
       "      <td>333.0</td>\n",
       "      <td>45.54</td>\n",
       "      <td>4.1</td>\n",
       "      <td>3.7</td>\n",
       "      <td>UPI</td>\n",
       "      <td>6</td>\n",
       "    </tr>\n",
       "    <tr>\n",
       "      <th>149999</th>\n",
       "      <td>2024-03-10</td>\n",
       "      <td>15:38:03</td>\n",
       "      <td>Completed</td>\n",
       "      <td>Premier Sedan</td>\n",
       "      <td>Ashok Park Main</td>\n",
       "      <td>Gurgaon Sector 29</td>\n",
       "      <td>3.5</td>\n",
       "      <td>33.7</td>\n",
       "      <td>NaN</td>\n",
       "      <td>NaN</td>\n",
       "      <td>NaN</td>\n",
       "      <td>NaN</td>\n",
       "      <td>NaN</td>\n",
       "      <td>NaN</td>\n",
       "      <td>806.0</td>\n",
       "      <td>21.19</td>\n",
       "      <td>4.6</td>\n",
       "      <td>4.9</td>\n",
       "      <td>Credit Card</td>\n",
       "      <td>6</td>\n",
       "    </tr>\n",
       "  </tbody>\n",
       "</table>\n",
       "<p>139500 rows × 20 columns</p>\n",
       "</div>"
      ],
      "text/plain": [
       "              Date      Time Booking Status   Vehicle Type  \\\n",
       "1       2024-11-29  18:01:39     Incomplete       Go Sedan   \n",
       "2       2024-08-23  08:56:10      Completed           Auto   \n",
       "3       2024-10-21  17:17:25      Completed  Premier Sedan   \n",
       "4       2024-09-16  22:08:00      Completed           Bike   \n",
       "5       2024-02-06  09:44:56      Completed           Auto   \n",
       "...            ...       ...            ...            ...   \n",
       "149995  2024-11-11  19:34:01      Completed        Go Mini   \n",
       "149996  2024-11-24  15:55:09      Completed        Go Mini   \n",
       "149997  2024-09-18  10:55:15      Completed       Go Sedan   \n",
       "149998  2024-10-05  07:53:34      Completed           Auto   \n",
       "149999  2024-03-10  15:38:03      Completed  Premier Sedan   \n",
       "\n",
       "               Pickup Location      Drop Location  Avg VTAT  Avg CTAT  \\\n",
       "1                Shastri Nagar  Gurgaon Sector 56       4.9      14.0   \n",
       "2                      Khandsa      Malviya Nagar      13.4      25.8   \n",
       "3          Central Secretariat           Inderlok      13.1      28.5   \n",
       "4             Ghitorni Village        Khan Market       5.3      19.6   \n",
       "5                        AIIMS        Narsinghpur       5.1      18.1   \n",
       "...                        ...                ...       ...       ...   \n",
       "149995                 MG Road           Ghitorni      10.2      44.4   \n",
       "149996        Golf Course Road         Akshardham       5.1      30.8   \n",
       "149997  Satguru Ram Singh Marg           Jor Bagh       2.7      23.4   \n",
       "149998               Ghaziabad         Saidulajab       6.9      39.6   \n",
       "149999         Ashok Park Main  Gurgaon Sector 29       3.5      33.7   \n",
       "\n",
       "        Cancelled Rides by Customer Reason for cancelling by Customer  \\\n",
       "1                               NaN                               NaN   \n",
       "2                               NaN                               NaN   \n",
       "3                               NaN                               NaN   \n",
       "4                               NaN                               NaN   \n",
       "5                               NaN                               NaN   \n",
       "...                             ...                               ...   \n",
       "149995                          NaN                               NaN   \n",
       "149996                          NaN                               NaN   \n",
       "149997                          NaN                               NaN   \n",
       "149998                          NaN                               NaN   \n",
       "149999                          NaN                               NaN   \n",
       "\n",
       "        Cancelled Rides by Driver Driver Cancellation Reason  \\\n",
       "1                             NaN                        NaN   \n",
       "2                             NaN                        NaN   \n",
       "3                             NaN                        NaN   \n",
       "4                             NaN                        NaN   \n",
       "5                             NaN                        NaN   \n",
       "...                           ...                        ...   \n",
       "149995                        NaN                        NaN   \n",
       "149996                        NaN                        NaN   \n",
       "149997                        NaN                        NaN   \n",
       "149998                        NaN                        NaN   \n",
       "149999                        NaN                        NaN   \n",
       "\n",
       "        Incomplete Rides Incomplete Rides Reason  Booking Value  \\\n",
       "1                    1.0       Vehicle Breakdown          237.0   \n",
       "2                    NaN                     NaN          627.0   \n",
       "3                    NaN                     NaN          416.0   \n",
       "4                    NaN                     NaN          737.0   \n",
       "5                    NaN                     NaN          316.0   \n",
       "...                  ...                     ...            ...   \n",
       "149995               NaN                     NaN          475.0   \n",
       "149996               NaN                     NaN         1093.0   \n",
       "149997               NaN                     NaN          852.0   \n",
       "149998               NaN                     NaN          333.0   \n",
       "149999               NaN                     NaN          806.0   \n",
       "\n",
       "        Ride Distance  Driver Ratings  Customer Rating Payment Method  \\\n",
       "1                5.73             NaN              NaN            UPI   \n",
       "2               13.58             4.9              4.9     Debit Card   \n",
       "3               34.02             4.6              5.0            UPI   \n",
       "4               48.21             4.1              4.3            UPI   \n",
       "5                4.85             4.1              4.6            UPI   \n",
       "...               ...             ...              ...            ...   \n",
       "149995          40.08             3.7              4.1    Uber Wallet   \n",
       "149996          21.31             4.8              5.0            UPI   \n",
       "149997          15.93             3.9              4.4           Cash   \n",
       "149998          45.54             4.1              3.7            UPI   \n",
       "149999          21.19             4.6              4.9    Credit Card   \n",
       "\n",
       "        null_counter  \n",
       "1                  6  \n",
       "2                  6  \n",
       "3                  6  \n",
       "4                  6  \n",
       "5                  6  \n",
       "...              ...  \n",
       "149995             6  \n",
       "149996             6  \n",
       "149997             6  \n",
       "149998             6  \n",
       "149999             6  \n",
       "\n",
       "[139500 rows x 20 columns]"
      ]
     },
     "execution_count": 23,
     "metadata": {},
     "output_type": "execute_result"
    }
   ],
   "source": [
    "#Removing the columns 'Booking Id' and 'Customer ID'\n",
    "data=data.drop(columns=['Booking ID', 'Customer ID'])\n",
    "data"
   ]
  },
  {
   "cell_type": "code",
   "execution_count": 25,
   "metadata": {},
   "outputs": [
    {
     "data": {
      "text/plain": [
       "count    139500.000000\n",
       "mean          8.456352\n",
       "std           3.773564\n",
       "min           2.000000\n",
       "25%           5.300000\n",
       "50%           8.300000\n",
       "75%          11.300000\n",
       "max          20.000000\n",
       "Name: Avg VTAT, dtype: float64"
      ]
     },
     "execution_count": 25,
     "metadata": {},
     "output_type": "execute_result"
    }
   ],
   "source": [
    "# knowing about the Average VTAT stats\n",
    "data['Avg VTAT'].describe()"
   ]
  },
  {
   "cell_type": "code",
   "execution_count": 115,
   "metadata": {},
   "outputs": [
    {
     "name": "stderr",
     "output_type": "stream",
     "text": [
      "C:\\Users\\rohan\\AppData\\Local\\Temp\\ipykernel_972\\788183081.py:3: FutureWarning: A value is trying to be set on a copy of a DataFrame or Series through chained assignment using an inplace method.\n",
      "The behavior will change in pandas 3.0. This inplace method will never work because the intermediate object on which we are setting values always behaves as a copy.\n",
      "\n",
      "For example, when doing 'df[col].method(value, inplace=True)', try using 'df.method({col: value}, inplace=True)' or df[col] = df[col].method(value) instead, to perform the operation inplace on the original object.\n",
      "\n",
      "\n",
      "  data['Avg VTAT'].fillna(V_median, inplace=True)\n"
     ]
    }
   ],
   "source": [
    "# Filling the missing value of \"Avg VTAT\" column with the median values\n",
    "V_median=data['Avg VTAT'].median()\n",
    "data['Avg VTAT'].fillna(V_median, inplace=True)"
   ]
  },
  {
   "cell_type": "code",
   "execution_count": 116,
   "metadata": {},
   "outputs": [
    {
     "name": "stdout",
     "output_type": "stream",
     "text": [
      "7.614093014435646\n",
      "28.8\n",
      "57.974412432477706\n"
     ]
    }
   ],
   "source": [
    "# knowing about the Average CTAT stats\n",
    "print(data['Avg CTAT'].std())\n",
    "print(data['Avg CTAT'].median())\n",
    "print(data['Avg CTAT'].var())"
   ]
  },
  {
   "cell_type": "code",
   "execution_count": 30,
   "metadata": {},
   "outputs": [
    {
     "name": "stderr",
     "output_type": "stream",
     "text": [
      "C:\\Users\\rohan\\AppData\\Local\\Temp\\ipykernel_972\\2712937936.py:2: FutureWarning: A value is trying to be set on a copy of a DataFrame or Series through chained assignment using an inplace method.\n",
      "The behavior will change in pandas 3.0. This inplace method will never work because the intermediate object on which we are setting values always behaves as a copy.\n",
      "\n",
      "For example, when doing 'df[col].method(value, inplace=True)', try using 'df.method({col: value}, inplace=True)' or df[col] = df[col].method(value) instead, to perform the operation inplace on the original object.\n",
      "\n",
      "\n",
      "  data['Avg CTAT'].fillna(C_median, inplace=True)\n"
     ]
    }
   ],
   "source": [
    "# Filling the missing value of \"Avg CTAT\" column with the median values\n",
    "C_median=data['Avg CTAT'].median()\n",
    "data['Avg CTAT'].fillna(C_median, inplace=True)"
   ]
  },
  {
   "cell_type": "code",
   "execution_count": 31,
   "metadata": {},
   "outputs": [
    {
     "name": "stderr",
     "output_type": "stream",
     "text": [
      "C:\\Users\\rohan\\AppData\\Local\\Temp\\ipykernel_972\\1178898340.py:1: FutureWarning: A value is trying to be set on a copy of a DataFrame or Series through chained assignment using an inplace method.\n",
      "The behavior will change in pandas 3.0. This inplace method will never work because the intermediate object on which we are setting values always behaves as a copy.\n",
      "\n",
      "For example, when doing 'df[col].method(value, inplace=True)', try using 'df.method({col: value}, inplace=True)' or df[col] = df[col].method(value) instead, to perform the operation inplace on the original object.\n",
      "\n",
      "\n",
      "  data['Cancelled Rides by Customer'].fillna(0, inplace=True)\n"
     ]
    }
   ],
   "source": [
    "# Replacing the values of \"null\" with '0' for  the column \"Cancelled Rides by Customer\"\n",
    "data['Cancelled Rides by Customer'].fillna(0, inplace=True)"
   ]
  },
  {
   "cell_type": "code",
   "execution_count": 32,
   "metadata": {},
   "outputs": [],
   "source": [
    "Check_cond=data[data['Cancelled Rides by Customer']==1]"
   ]
  },
  {
   "cell_type": "code",
   "execution_count": 33,
   "metadata": {},
   "outputs": [
    {
     "data": {
      "text/plain": [
       "Reason for cancelling by Customer\n",
       "Wrong Address                                   2362\n",
       "Change of plans                                 2353\n",
       "Driver is not moving towards pickup location    2335\n",
       "Driver asked to cancel                          2295\n",
       "AC is not working                               1155\n",
       "Name: count, dtype: int64"
      ]
     },
     "execution_count": 33,
     "metadata": {},
     "output_type": "execute_result"
    }
   ],
   "source": [
    "Check_cond['Reason for cancelling by Customer'].value_counts()"
   ]
  },
  {
   "cell_type": "code",
   "execution_count": 34,
   "metadata": {},
   "outputs": [
    {
     "data": {
      "text/plain": [
       "0"
      ]
     },
     "execution_count": 34,
     "metadata": {},
     "output_type": "execute_result"
    }
   ],
   "source": [
    "# Checking for null values in the column \"Reason for cancelling by Customer\"\n",
    "Check_cond['Reason for cancelling by Customer'].isnull().sum()"
   ]
  },
  {
   "cell_type": "code",
   "execution_count": 35,
   "metadata": {},
   "outputs": [
    {
     "name": "stderr",
     "output_type": "stream",
     "text": [
      "C:\\Users\\rohan\\AppData\\Local\\Temp\\ipykernel_972\\3443847491.py:1: FutureWarning: A value is trying to be set on a copy of a DataFrame or Series through chained assignment using an inplace method.\n",
      "The behavior will change in pandas 3.0. This inplace method will never work because the intermediate object on which we are setting values always behaves as a copy.\n",
      "\n",
      "For example, when doing 'df[col].method(value, inplace=True)', try using 'df.method({col: value}, inplace=True)' or df[col] = df[col].method(value) instead, to perform the operation inplace on the original object.\n",
      "\n",
      "\n",
      "  data['Reason for cancelling by Customer'].fillna('Not Applicable', inplace=True)\n"
     ]
    }
   ],
   "source": [
    "#  Replacing the values of \"null\" with 'Not Applicabe' for  the column \"Reason for cancelling by Customer\"\n",
    "data['Reason for cancelling by Customer'].fillna('Not Applicable', inplace=True)"
   ]
  },
  {
   "cell_type": "code",
   "execution_count": 36,
   "metadata": {},
   "outputs": [
    {
     "data": {
      "text/plain": [
       "Cancelled Rides by Driver\n",
       "1.0    27000\n",
       "Name: count, dtype: int64"
      ]
     },
     "execution_count": 36,
     "metadata": {},
     "output_type": "execute_result"
    }
   ],
   "source": [
    "# Checking for null values after replacing\n",
    "data['Cancelled Rides by Driver'].value_counts()"
   ]
  },
  {
   "cell_type": "code",
   "execution_count": 37,
   "metadata": {},
   "outputs": [
    {
     "name": "stderr",
     "output_type": "stream",
     "text": [
      "C:\\Users\\rohan\\AppData\\Local\\Temp\\ipykernel_972\\213879031.py:1: FutureWarning: A value is trying to be set on a copy of a DataFrame or Series through chained assignment using an inplace method.\n",
      "The behavior will change in pandas 3.0. This inplace method will never work because the intermediate object on which we are setting values always behaves as a copy.\n",
      "\n",
      "For example, when doing 'df[col].method(value, inplace=True)', try using 'df.method({col: value}, inplace=True)' or df[col] = df[col].method(value) instead, to perform the operation inplace on the original object.\n",
      "\n",
      "\n",
      "  data['Cancelled Rides by Driver'].fillna(0, inplace=True)\n"
     ]
    }
   ],
   "source": [
    "# Replacing the values of \"null\" with '0' for  the column \"Cancelled Rides by Driver\"\n",
    "data['Cancelled Rides by Driver'].fillna(0, inplace=True)"
   ]
  },
  {
   "cell_type": "code",
   "execution_count": 38,
   "metadata": {},
   "outputs": [
    {
     "data": {
      "text/plain": [
       "Driver Cancellation Reason\n",
       "Customer related issue                 6837\n",
       "The customer was coughing/sick         6751\n",
       "Personal & Car related issues          6726\n",
       "More than permitted people in there    6686\n",
       "Name: count, dtype: int64"
      ]
     },
     "execution_count": 38,
     "metadata": {},
     "output_type": "execute_result"
    }
   ],
   "source": [
    "Cancelled_check=data[data['Cancelled Rides by Driver']==1]\n",
    "Cancelled_check['Driver Cancellation Reason'].value_counts()"
   ]
  },
  {
   "cell_type": "code",
   "execution_count": 117,
   "metadata": {},
   "outputs": [
    {
     "data": {
      "text/plain": [
       "0"
      ]
     },
     "execution_count": 117,
     "metadata": {},
     "output_type": "execute_result"
    }
   ],
   "source": [
    "# Checking for null values in the column \"Driver Cancellation Reason\"\n",
    "Cancelled_check['Driver Cancellation Reason'].isnull().sum()"
   ]
  },
  {
   "cell_type": "code",
   "execution_count": 118,
   "metadata": {},
   "outputs": [
    {
     "name": "stderr",
     "output_type": "stream",
     "text": [
      "C:\\Users\\rohan\\AppData\\Local\\Temp\\ipykernel_972\\2600665867.py:2: FutureWarning: A value is trying to be set on a copy of a DataFrame or Series through chained assignment using an inplace method.\n",
      "The behavior will change in pandas 3.0. This inplace method will never work because the intermediate object on which we are setting values always behaves as a copy.\n",
      "\n",
      "For example, when doing 'df[col].method(value, inplace=True)', try using 'df.method({col: value}, inplace=True)' or df[col] = df[col].method(value) instead, to perform the operation inplace on the original object.\n",
      "\n",
      "\n",
      "  data['Driver Cancellation Reason'].fillna('Not Applicable', inplace=True)\n"
     ]
    }
   ],
   "source": [
    "#  Replacing the values of \"null\" with 'Not Applicabe' for  the column \"Driver Cancellation Reason\"\n",
    "data['Driver Cancellation Reason'].fillna('Not Applicable', inplace=True)"
   ]
  },
  {
   "cell_type": "code",
   "execution_count": 41,
   "metadata": {},
   "outputs": [
    {
     "data": {
      "text/plain": [
       "Incomplete Rides\n",
       "1.0    9000\n",
       "Name: count, dtype: int64"
      ]
     },
     "execution_count": 41,
     "metadata": {},
     "output_type": "execute_result"
    }
   ],
   "source": [
    "# Checking for null values after replacing\n",
    "data['Incomplete Rides'].value_counts()"
   ]
  },
  {
   "cell_type": "code",
   "execution_count": 42,
   "metadata": {},
   "outputs": [
    {
     "name": "stderr",
     "output_type": "stream",
     "text": [
      "C:\\Users\\rohan\\AppData\\Local\\Temp\\ipykernel_972\\3652237109.py:1: FutureWarning: A value is trying to be set on a copy of a DataFrame or Series through chained assignment using an inplace method.\n",
      "The behavior will change in pandas 3.0. This inplace method will never work because the intermediate object on which we are setting values always behaves as a copy.\n",
      "\n",
      "For example, when doing 'df[col].method(value, inplace=True)', try using 'df.method({col: value}, inplace=True)' or df[col] = df[col].method(value) instead, to perform the operation inplace on the original object.\n",
      "\n",
      "\n",
      "  data['Incomplete Rides'].fillna(0, inplace=True)\n"
     ]
    }
   ],
   "source": [
    "# Replacing the values of \"null\" with '0' for  the column \"Incomplete raids\"\n",
    "data['Incomplete Rides'].fillna(0, inplace=True)"
   ]
  },
  {
   "cell_type": "code",
   "execution_count": 43,
   "metadata": {},
   "outputs": [],
   "source": [
    "# Collecting all the incomplete rides info\n",
    "Incomplete_check=data[data['Incomplete Rides']==1]"
   ]
  },
  {
   "cell_type": "code",
   "execution_count": 44,
   "metadata": {},
   "outputs": [
    {
     "data": {
      "text/plain": [
       "Incomplete Rides Reason\n",
       "Customer Demand      3040\n",
       "Vehicle Breakdown    3012\n",
       "Other Issue          2948\n",
       "Name: count, dtype: int64"
      ]
     },
     "execution_count": 44,
     "metadata": {},
     "output_type": "execute_result"
    }
   ],
   "source": [
    "# Checking all the reasons for incomplete rides\n",
    "Incomplete_check['Incomplete Rides Reason'].value_counts()"
   ]
  },
  {
   "cell_type": "code",
   "execution_count": 45,
   "metadata": {},
   "outputs": [
    {
     "data": {
      "text/plain": [
       "0"
      ]
     },
     "execution_count": 45,
     "metadata": {},
     "output_type": "execute_result"
    }
   ],
   "source": [
    "Incomplete_check['Incomplete Rides Reason'].isnull().sum()"
   ]
  },
  {
   "cell_type": "code",
   "execution_count": 46,
   "metadata": {},
   "outputs": [
    {
     "name": "stderr",
     "output_type": "stream",
     "text": [
      "C:\\Users\\rohan\\AppData\\Local\\Temp\\ipykernel_972\\2453328951.py:1: FutureWarning: A value is trying to be set on a copy of a DataFrame or Series through chained assignment using an inplace method.\n",
      "The behavior will change in pandas 3.0. This inplace method will never work because the intermediate object on which we are setting values always behaves as a copy.\n",
      "\n",
      "For example, when doing 'df[col].method(value, inplace=True)', try using 'df.method({col: value}, inplace=True)' or df[col] = df[col].method(value) instead, to perform the operation inplace on the original object.\n",
      "\n",
      "\n",
      "  data['Incomplete Rides Reason'].fillna('Not Applicable', inplace=True)\n"
     ]
    }
   ],
   "source": [
    "#  Replacing the values of \"null\" with 'Not Applicabe' for  the column \"incomplete Ride Reason\"\n",
    "\n",
    "data['Incomplete Rides Reason'].fillna('Not Applicable', inplace=True)"
   ]
  },
  {
   "cell_type": "code",
   "execution_count": 47,
   "metadata": {},
   "outputs": [],
   "source": [
    "# Changing the value of the column \"Booking Value\" to '0' as the ride was cancelled and customer never travelled.\n",
    "data.loc[data['Cancelled Rides by Customer']==1, 'Booking Value']=0"
   ]
  },
  {
   "cell_type": "code",
   "execution_count": 48,
   "metadata": {},
   "outputs": [],
   "source": [
    "# Changing the value of the column \"Booking Value\" to '0' as the ride was cancelled and customer never travelled.\n",
    "data.loc[data['Cancelled Rides by Driver']==1, 'Booking Value']=0"
   ]
  },
  {
   "cell_type": "code",
   "execution_count": 49,
   "metadata": {},
   "outputs": [],
   "source": [
    "# Similarly Changing the value of the column \"Ride Distance\" to '0' as the ride was cancelled and customer never travelled.\n",
    "\n",
    "data.loc[data['Cancelled Rides by Customer']==1, 'Ride Distance']=0\n",
    "data.loc[data['Cancelled Rides by Driver']==1, 'Ride Distance']=0"
   ]
  },
  {
   "cell_type": "code",
   "execution_count": 50,
   "metadata": {},
   "outputs": [],
   "source": [
    "# Changing the value of the column \"Payment Method\" to 'Not Applicable' as the ride was cancelled and customer never travelled.\n",
    "\n",
    "data.loc[data['Cancelled Rides by Customer']==1, 'Payment Method']='Not Applicable'\n",
    "data.loc[data['Cancelled Rides by Driver']==1, 'Payment Method']='Not Applicable'"
   ]
  },
  {
   "cell_type": "code",
   "execution_count": 51,
   "metadata": {},
   "outputs": [],
   "source": [
    "# Changing the value of the columns driver rating and customer rating to '0' as the ride was cancelled and customer never travelled.\n",
    "\n",
    "data.loc[data['Cancelled Rides by Customer']==1, 'Driver Ratings']=0\n",
    "data.loc[data['Cancelled Rides by Driver']==1, 'Driver Ratings']=0\n",
    "data.loc[data['Cancelled Rides by Customer']==1, 'Customer Rating']=0\n",
    "data.loc[data['Cancelled Rides by Driver']==1, 'Customer Rating']=0\n"
   ]
  },
  {
   "cell_type": "code",
   "execution_count": 52,
   "metadata": {},
   "outputs": [
    {
     "data": {
      "text/plain": [
       "Date                                    0\n",
       "Time                                    0\n",
       "Booking Status                          0\n",
       "Vehicle Type                            0\n",
       "Pickup Location                         0\n",
       "Drop Location                           0\n",
       "Avg VTAT                                0\n",
       "Avg CTAT                                0\n",
       "Cancelled Rides by Customer             0\n",
       "Reason for cancelling by Customer       0\n",
       "Cancelled Rides by Driver               0\n",
       "Driver Cancellation Reason              0\n",
       "Incomplete Rides                        0\n",
       "Incomplete Rides Reason                 0\n",
       "Booking Value                           0\n",
       "Ride Distance                           0\n",
       "Driver Ratings                       9000\n",
       "Customer Rating                      9000\n",
       "Payment Method                          0\n",
       "null_counter                            0\n",
       "dtype: int64"
      ]
     },
     "execution_count": 52,
     "metadata": {},
     "output_type": "execute_result"
    }
   ],
   "source": [
    "data.isnull().sum()"
   ]
  },
  {
   "cell_type": "code",
   "execution_count": 53,
   "metadata": {},
   "outputs": [
    {
     "name": "stdout",
     "output_type": "stream",
     "text": [
      "3.0151900383141768 3.1388988505747126\n"
     ]
    }
   ],
   "source": [
    "# calculating mean for the columns \"Driver Ratings\" & \"Customer Rating\" for filling in the place of null values.\n",
    "dmean=data['Driver Ratings'].mean()\n",
    "smean=data['Customer Rating'].mean()\n",
    "print(dmean, smean)"
   ]
  },
  {
   "cell_type": "code",
   "execution_count": 54,
   "metadata": {},
   "outputs": [
    {
     "name": "stderr",
     "output_type": "stream",
     "text": [
      "C:\\Users\\rohan\\AppData\\Local\\Temp\\ipykernel_972\\2439085630.py:1: FutureWarning: A value is trying to be set on a copy of a DataFrame or Series through chained assignment using an inplace method.\n",
      "The behavior will change in pandas 3.0. This inplace method will never work because the intermediate object on which we are setting values always behaves as a copy.\n",
      "\n",
      "For example, when doing 'df[col].method(value, inplace=True)', try using 'df.method({col: value}, inplace=True)' or df[col] = df[col].method(value) instead, to perform the operation inplace on the original object.\n",
      "\n",
      "\n",
      "  data['Driver Ratings'].fillna(dmean, inplace=True)\n",
      "C:\\Users\\rohan\\AppData\\Local\\Temp\\ipykernel_972\\2439085630.py:2: FutureWarning: A value is trying to be set on a copy of a DataFrame or Series through chained assignment using an inplace method.\n",
      "The behavior will change in pandas 3.0. This inplace method will never work because the intermediate object on which we are setting values always behaves as a copy.\n",
      "\n",
      "For example, when doing 'df[col].method(value, inplace=True)', try using 'df.method({col: value}, inplace=True)' or df[col] = df[col].method(value) instead, to perform the operation inplace on the original object.\n",
      "\n",
      "\n",
      "  data['Customer Rating'].fillna(smean, inplace=True)\n"
     ]
    }
   ],
   "source": [
    "data['Driver Ratings'].fillna(dmean, inplace=True)\n",
    "data['Customer Rating'].fillna(smean, inplace=True)"
   ]
  },
  {
   "cell_type": "code",
   "execution_count": 55,
   "metadata": {},
   "outputs": [
    {
     "data": {
      "text/plain": [
       "Date                                 0\n",
       "Time                                 0\n",
       "Booking Status                       0\n",
       "Vehicle Type                         0\n",
       "Pickup Location                      0\n",
       "Drop Location                        0\n",
       "Avg VTAT                             0\n",
       "Avg CTAT                             0\n",
       "Cancelled Rides by Customer          0\n",
       "Reason for cancelling by Customer    0\n",
       "Cancelled Rides by Driver            0\n",
       "Driver Cancellation Reason           0\n",
       "Incomplete Rides                     0\n",
       "Incomplete Rides Reason              0\n",
       "Booking Value                        0\n",
       "Ride Distance                        0\n",
       "Driver Ratings                       0\n",
       "Customer Rating                      0\n",
       "Payment Method                       0\n",
       "null_counter                         0\n",
       "dtype: int64"
      ]
     },
     "execution_count": 55,
     "metadata": {},
     "output_type": "execute_result"
    }
   ],
   "source": [
    "# Finally no null values: The Data is clean :)\n",
    "data.isnull().sum()"
   ]
  },
  {
   "cell_type": "code",
   "execution_count": 56,
   "metadata": {},
   "outputs": [],
   "source": [
    "# Conversion of Data and Time from Objects to Data and Time datatype\n",
    "data['Date']=pd.to_datetime(data['Date'])\n",
    "data['Time']=pd.to_datetime(data['Time'], errors='coerce').dt.time"
   ]
  },
  {
   "cell_type": "code",
   "execution_count": 58,
   "metadata": {},
   "outputs": [
    {
     "name": "stdout",
     "output_type": "stream",
     "text": [
      "<class 'pandas.core.frame.DataFrame'>\n",
      "Index: 139500 entries, 1 to 149999\n",
      "Data columns (total 20 columns):\n",
      " #   Column                             Non-Null Count   Dtype         \n",
      "---  ------                             --------------   -----         \n",
      " 0   Date                               139500 non-null  datetime64[ns]\n",
      " 1   Time                               139500 non-null  object        \n",
      " 2   Booking Status                     139500 non-null  object        \n",
      " 3   Vehicle Type                       139500 non-null  object        \n",
      " 4   Pickup Location                    139500 non-null  object        \n",
      " 5   Drop Location                      139500 non-null  object        \n",
      " 6   Avg VTAT                           139500 non-null  float64       \n",
      " 7   Avg CTAT                           139500 non-null  float64       \n",
      " 8   Cancelled Rides by Customer        139500 non-null  float64       \n",
      " 9   Reason for cancelling by Customer  139500 non-null  object        \n",
      " 10  Cancelled Rides by Driver          139500 non-null  float64       \n",
      " 11  Driver Cancellation Reason         139500 non-null  object        \n",
      " 12  Incomplete Rides                   139500 non-null  float64       \n",
      " 13  Incomplete Rides Reason            139500 non-null  object        \n",
      " 14  Booking Value                      139500 non-null  float64       \n",
      " 15  Ride Distance                      139500 non-null  float64       \n",
      " 16  Driver Ratings                     139500 non-null  float64       \n",
      " 17  Customer Rating                    139500 non-null  float64       \n",
      " 18  Payment Method                     139500 non-null  object        \n",
      " 19  null_counter                       139500 non-null  int64         \n",
      "dtypes: datetime64[ns](1), float64(9), int64(1), object(9)\n",
      "memory usage: 22.4+ MB\n"
     ]
    }
   ],
   "source": [
    "data.info()"
   ]
  },
  {
   "cell_type": "code",
   "execution_count": 59,
   "metadata": {},
   "outputs": [
    {
     "data": {
      "text/html": [
       "<div>\n",
       "<style scoped>\n",
       "    .dataframe tbody tr th:only-of-type {\n",
       "        vertical-align: middle;\n",
       "    }\n",
       "\n",
       "    .dataframe tbody tr th {\n",
       "        vertical-align: top;\n",
       "    }\n",
       "\n",
       "    .dataframe thead th {\n",
       "        text-align: right;\n",
       "    }\n",
       "</style>\n",
       "<table border=\"1\" class=\"dataframe\">\n",
       "  <thead>\n",
       "    <tr style=\"text-align: right;\">\n",
       "      <th></th>\n",
       "      <th>Date</th>\n",
       "      <th>Time</th>\n",
       "      <th>Booking Status</th>\n",
       "      <th>Vehicle Type</th>\n",
       "      <th>Pickup Location</th>\n",
       "      <th>Drop Location</th>\n",
       "      <th>Avg VTAT</th>\n",
       "      <th>Avg CTAT</th>\n",
       "      <th>Cancelled Rides by Customer</th>\n",
       "      <th>Reason for cancelling by Customer</th>\n",
       "      <th>Cancelled Rides by Driver</th>\n",
       "      <th>Driver Cancellation Reason</th>\n",
       "      <th>Incomplete Rides</th>\n",
       "      <th>Incomplete Rides Reason</th>\n",
       "      <th>Booking Value</th>\n",
       "      <th>Ride Distance</th>\n",
       "      <th>Driver Ratings</th>\n",
       "      <th>Customer Rating</th>\n",
       "      <th>Payment Method</th>\n",
       "      <th>null_counter</th>\n",
       "    </tr>\n",
       "  </thead>\n",
       "  <tbody>\n",
       "    <tr>\n",
       "      <th>1</th>\n",
       "      <td>2024-11-29</td>\n",
       "      <td>18:01:39</td>\n",
       "      <td>Incomplete</td>\n",
       "      <td>Go Sedan</td>\n",
       "      <td>Shastri Nagar</td>\n",
       "      <td>Gurgaon Sector 56</td>\n",
       "      <td>4.9</td>\n",
       "      <td>14.0</td>\n",
       "      <td>0.0</td>\n",
       "      <td>Not Applicable</td>\n",
       "      <td>0.0</td>\n",
       "      <td>Not Applicable</td>\n",
       "      <td>1.0</td>\n",
       "      <td>Vehicle Breakdown</td>\n",
       "      <td>237.0</td>\n",
       "      <td>5.73</td>\n",
       "      <td>3.01519</td>\n",
       "      <td>3.138899</td>\n",
       "      <td>UPI</td>\n",
       "      <td>6</td>\n",
       "    </tr>\n",
       "    <tr>\n",
       "      <th>2</th>\n",
       "      <td>2024-08-23</td>\n",
       "      <td>08:56:10</td>\n",
       "      <td>Completed</td>\n",
       "      <td>Auto</td>\n",
       "      <td>Khandsa</td>\n",
       "      <td>Malviya Nagar</td>\n",
       "      <td>13.4</td>\n",
       "      <td>25.8</td>\n",
       "      <td>0.0</td>\n",
       "      <td>Not Applicable</td>\n",
       "      <td>0.0</td>\n",
       "      <td>Not Applicable</td>\n",
       "      <td>0.0</td>\n",
       "      <td>Not Applicable</td>\n",
       "      <td>627.0</td>\n",
       "      <td>13.58</td>\n",
       "      <td>4.90000</td>\n",
       "      <td>4.900000</td>\n",
       "      <td>Debit Card</td>\n",
       "      <td>6</td>\n",
       "    </tr>\n",
       "    <tr>\n",
       "      <th>3</th>\n",
       "      <td>2024-10-21</td>\n",
       "      <td>17:17:25</td>\n",
       "      <td>Completed</td>\n",
       "      <td>Premier Sedan</td>\n",
       "      <td>Central Secretariat</td>\n",
       "      <td>Inderlok</td>\n",
       "      <td>13.1</td>\n",
       "      <td>28.5</td>\n",
       "      <td>0.0</td>\n",
       "      <td>Not Applicable</td>\n",
       "      <td>0.0</td>\n",
       "      <td>Not Applicable</td>\n",
       "      <td>0.0</td>\n",
       "      <td>Not Applicable</td>\n",
       "      <td>416.0</td>\n",
       "      <td>34.02</td>\n",
       "      <td>4.60000</td>\n",
       "      <td>5.000000</td>\n",
       "      <td>UPI</td>\n",
       "      <td>6</td>\n",
       "    </tr>\n",
       "    <tr>\n",
       "      <th>4</th>\n",
       "      <td>2024-09-16</td>\n",
       "      <td>22:08:00</td>\n",
       "      <td>Completed</td>\n",
       "      <td>Bike</td>\n",
       "      <td>Ghitorni Village</td>\n",
       "      <td>Khan Market</td>\n",
       "      <td>5.3</td>\n",
       "      <td>19.6</td>\n",
       "      <td>0.0</td>\n",
       "      <td>Not Applicable</td>\n",
       "      <td>0.0</td>\n",
       "      <td>Not Applicable</td>\n",
       "      <td>0.0</td>\n",
       "      <td>Not Applicable</td>\n",
       "      <td>737.0</td>\n",
       "      <td>48.21</td>\n",
       "      <td>4.10000</td>\n",
       "      <td>4.300000</td>\n",
       "      <td>UPI</td>\n",
       "      <td>6</td>\n",
       "    </tr>\n",
       "    <tr>\n",
       "      <th>5</th>\n",
       "      <td>2024-02-06</td>\n",
       "      <td>09:44:56</td>\n",
       "      <td>Completed</td>\n",
       "      <td>Auto</td>\n",
       "      <td>AIIMS</td>\n",
       "      <td>Narsinghpur</td>\n",
       "      <td>5.1</td>\n",
       "      <td>18.1</td>\n",
       "      <td>0.0</td>\n",
       "      <td>Not Applicable</td>\n",
       "      <td>0.0</td>\n",
       "      <td>Not Applicable</td>\n",
       "      <td>0.0</td>\n",
       "      <td>Not Applicable</td>\n",
       "      <td>316.0</td>\n",
       "      <td>4.85</td>\n",
       "      <td>4.10000</td>\n",
       "      <td>4.600000</td>\n",
       "      <td>UPI</td>\n",
       "      <td>6</td>\n",
       "    </tr>\n",
       "    <tr>\n",
       "      <th>6</th>\n",
       "      <td>2024-06-17</td>\n",
       "      <td>15:45:58</td>\n",
       "      <td>Completed</td>\n",
       "      <td>Go Mini</td>\n",
       "      <td>Vaishali</td>\n",
       "      <td>Punjabi Bagh</td>\n",
       "      <td>7.1</td>\n",
       "      <td>20.4</td>\n",
       "      <td>0.0</td>\n",
       "      <td>Not Applicable</td>\n",
       "      <td>0.0</td>\n",
       "      <td>Not Applicable</td>\n",
       "      <td>0.0</td>\n",
       "      <td>Not Applicable</td>\n",
       "      <td>640.0</td>\n",
       "      <td>41.24</td>\n",
       "      <td>4.00000</td>\n",
       "      <td>4.100000</td>\n",
       "      <td>UPI</td>\n",
       "      <td>6</td>\n",
       "    </tr>\n",
       "    <tr>\n",
       "      <th>7</th>\n",
       "      <td>2024-03-19</td>\n",
       "      <td>17:37:37</td>\n",
       "      <td>Completed</td>\n",
       "      <td>Auto</td>\n",
       "      <td>Mayur Vihar</td>\n",
       "      <td>Cyber Hub</td>\n",
       "      <td>12.1</td>\n",
       "      <td>16.5</td>\n",
       "      <td>0.0</td>\n",
       "      <td>Not Applicable</td>\n",
       "      <td>0.0</td>\n",
       "      <td>Not Applicable</td>\n",
       "      <td>0.0</td>\n",
       "      <td>Not Applicable</td>\n",
       "      <td>136.0</td>\n",
       "      <td>6.56</td>\n",
       "      <td>4.40000</td>\n",
       "      <td>4.200000</td>\n",
       "      <td>UPI</td>\n",
       "      <td>6</td>\n",
       "    </tr>\n",
       "    <tr>\n",
       "      <th>9</th>\n",
       "      <td>2024-12-16</td>\n",
       "      <td>19:06:48</td>\n",
       "      <td>Incomplete</td>\n",
       "      <td>Auto</td>\n",
       "      <td>Rohini</td>\n",
       "      <td>Adarsh Nagar</td>\n",
       "      <td>6.1</td>\n",
       "      <td>26.0</td>\n",
       "      <td>0.0</td>\n",
       "      <td>Not Applicable</td>\n",
       "      <td>0.0</td>\n",
       "      <td>Not Applicable</td>\n",
       "      <td>1.0</td>\n",
       "      <td>Other Issue</td>\n",
       "      <td>135.0</td>\n",
       "      <td>10.36</td>\n",
       "      <td>3.01519</td>\n",
       "      <td>3.138899</td>\n",
       "      <td>Cash</td>\n",
       "      <td>6</td>\n",
       "    </tr>\n",
       "    <tr>\n",
       "      <th>10</th>\n",
       "      <td>2024-06-14</td>\n",
       "      <td>16:24:12</td>\n",
       "      <td>Completed</td>\n",
       "      <td>Auto</td>\n",
       "      <td>Udyog Bhawan</td>\n",
       "      <td>Dwarka Sector 21</td>\n",
       "      <td>7.7</td>\n",
       "      <td>18.9</td>\n",
       "      <td>0.0</td>\n",
       "      <td>Not Applicable</td>\n",
       "      <td>0.0</td>\n",
       "      <td>Not Applicable</td>\n",
       "      <td>0.0</td>\n",
       "      <td>Not Applicable</td>\n",
       "      <td>181.0</td>\n",
       "      <td>19.84</td>\n",
       "      <td>4.20000</td>\n",
       "      <td>4.900000</td>\n",
       "      <td>Cash</td>\n",
       "      <td>6</td>\n",
       "    </tr>\n",
       "    <tr>\n",
       "      <th>12</th>\n",
       "      <td>2024-06-25</td>\n",
       "      <td>22:44:15</td>\n",
       "      <td>Cancelled by Driver</td>\n",
       "      <td>eBike</td>\n",
       "      <td>Patel Chowk</td>\n",
       "      <td>Kherki Daula Toll</td>\n",
       "      <td>4.6</td>\n",
       "      <td>28.8</td>\n",
       "      <td>0.0</td>\n",
       "      <td>Not Applicable</td>\n",
       "      <td>1.0</td>\n",
       "      <td>Personal &amp; Car related issues</td>\n",
       "      <td>0.0</td>\n",
       "      <td>Not Applicable</td>\n",
       "      <td>0.0</td>\n",
       "      <td>0.00</td>\n",
       "      <td>0.00000</td>\n",
       "      <td>0.000000</td>\n",
       "      <td>Not Applicable</td>\n",
       "      <td>10</td>\n",
       "    </tr>\n",
       "  </tbody>\n",
       "</table>\n",
       "</div>"
      ],
      "text/plain": [
       "         Date      Time       Booking Status   Vehicle Type  \\\n",
       "1  2024-11-29  18:01:39           Incomplete       Go Sedan   \n",
       "2  2024-08-23  08:56:10            Completed           Auto   \n",
       "3  2024-10-21  17:17:25            Completed  Premier Sedan   \n",
       "4  2024-09-16  22:08:00            Completed           Bike   \n",
       "5  2024-02-06  09:44:56            Completed           Auto   \n",
       "6  2024-06-17  15:45:58            Completed        Go Mini   \n",
       "7  2024-03-19  17:37:37            Completed           Auto   \n",
       "9  2024-12-16  19:06:48           Incomplete           Auto   \n",
       "10 2024-06-14  16:24:12            Completed           Auto   \n",
       "12 2024-06-25  22:44:15  Cancelled by Driver          eBike   \n",
       "\n",
       "        Pickup Location      Drop Location  Avg VTAT  Avg CTAT  \\\n",
       "1         Shastri Nagar  Gurgaon Sector 56       4.9      14.0   \n",
       "2               Khandsa      Malviya Nagar      13.4      25.8   \n",
       "3   Central Secretariat           Inderlok      13.1      28.5   \n",
       "4      Ghitorni Village        Khan Market       5.3      19.6   \n",
       "5                 AIIMS        Narsinghpur       5.1      18.1   \n",
       "6              Vaishali       Punjabi Bagh       7.1      20.4   \n",
       "7           Mayur Vihar          Cyber Hub      12.1      16.5   \n",
       "9                Rohini       Adarsh Nagar       6.1      26.0   \n",
       "10         Udyog Bhawan   Dwarka Sector 21       7.7      18.9   \n",
       "12          Patel Chowk  Kherki Daula Toll       4.6      28.8   \n",
       "\n",
       "    Cancelled Rides by Customer Reason for cancelling by Customer  \\\n",
       "1                           0.0                    Not Applicable   \n",
       "2                           0.0                    Not Applicable   \n",
       "3                           0.0                    Not Applicable   \n",
       "4                           0.0                    Not Applicable   \n",
       "5                           0.0                    Not Applicable   \n",
       "6                           0.0                    Not Applicable   \n",
       "7                           0.0                    Not Applicable   \n",
       "9                           0.0                    Not Applicable   \n",
       "10                          0.0                    Not Applicable   \n",
       "12                          0.0                    Not Applicable   \n",
       "\n",
       "    Cancelled Rides by Driver     Driver Cancellation Reason  \\\n",
       "1                         0.0                 Not Applicable   \n",
       "2                         0.0                 Not Applicable   \n",
       "3                         0.0                 Not Applicable   \n",
       "4                         0.0                 Not Applicable   \n",
       "5                         0.0                 Not Applicable   \n",
       "6                         0.0                 Not Applicable   \n",
       "7                         0.0                 Not Applicable   \n",
       "9                         0.0                 Not Applicable   \n",
       "10                        0.0                 Not Applicable   \n",
       "12                        1.0  Personal & Car related issues   \n",
       "\n",
       "    Incomplete Rides Incomplete Rides Reason  Booking Value  Ride Distance  \\\n",
       "1                1.0       Vehicle Breakdown          237.0           5.73   \n",
       "2                0.0          Not Applicable          627.0          13.58   \n",
       "3                0.0          Not Applicable          416.0          34.02   \n",
       "4                0.0          Not Applicable          737.0          48.21   \n",
       "5                0.0          Not Applicable          316.0           4.85   \n",
       "6                0.0          Not Applicable          640.0          41.24   \n",
       "7                0.0          Not Applicable          136.0           6.56   \n",
       "9                1.0             Other Issue          135.0          10.36   \n",
       "10               0.0          Not Applicable          181.0          19.84   \n",
       "12               0.0          Not Applicable            0.0           0.00   \n",
       "\n",
       "    Driver Ratings  Customer Rating  Payment Method  null_counter  \n",
       "1          3.01519         3.138899             UPI             6  \n",
       "2          4.90000         4.900000      Debit Card             6  \n",
       "3          4.60000         5.000000             UPI             6  \n",
       "4          4.10000         4.300000             UPI             6  \n",
       "5          4.10000         4.600000             UPI             6  \n",
       "6          4.00000         4.100000             UPI             6  \n",
       "7          4.40000         4.200000             UPI             6  \n",
       "9          3.01519         3.138899            Cash             6  \n",
       "10         4.20000         4.900000            Cash             6  \n",
       "12         0.00000         0.000000  Not Applicable            10  "
      ]
     },
     "execution_count": 59,
     "metadata": {},
     "output_type": "execute_result"
    }
   ],
   "source": [
    "data.head(10)"
   ]
  },
  {
   "cell_type": "code",
   "execution_count": 119,
   "metadata": {},
   "outputs": [
    {
     "data": {
      "image/png": "[encoded data removed]",
      "text/plain": [
       "<Figure size 640x480 with 1 Axes>"
      ]
     },
     "metadata": {},
     "output_type": "display_data"
    }
   ],
   "source": [
    "plot=sns.countplot(data['Booking Status'])\n",
    "for con in plot.containers:\n",
    "    plot.bar_label(con)\n",
    "plt.title(\"Booking Status\")\n",
    "plt.show()"
   ]
  },
  {
   "cell_type": "code",
   "execution_count": 61,
   "metadata": {},
   "outputs": [
    {
     "name": "stdout",
     "output_type": "stream",
     "text": [
      "Averege numbers of Raids:                 382.1917808219178\n",
      "Avg no. of completed Raids:               254.7945205479452\n",
      "Avg no. of Incomplete Raids:              24.65753424657534\n",
      "Avg no. Raids cancelled by driver:        73.97260273972603\n",
      "Avg no. of raids cancelled by Customer:   28.767123287671232\n"
     ]
    }
   ],
   "source": [
    "# Avereage daily raids Statistics\n",
    "print(\"Averege numbers of Raids:                \",data.groupby('Date')['Booking Status'].count().mean())\n",
    "print(\"Avg no. of completed Raids:              \",data[data['Booking Status'] == 'Completed'].groupby('Date')['Booking Status'].count().mean()\n",
    ")\n",
    "print('Avg no. of Incomplete Raids:             ',data[data['Booking Status'] == 'Incomplete'].groupby('Date')['Booking Status'].count().mean()\n",
    ")\n",
    "print(\"Avg no. Raids cancelled by driver:       \",data[data['Booking Status'] == 'Cancelled by Driver'].groupby('Date')['Booking Status'].count().mean()\n",
    ")\n",
    "print(\"Avg no. of raids cancelled by Customer:  \",data[data['Booking Status'] == 'Cancelled by Customer'].groupby('Date')['Booking Status'].count().mean()\n",
    ")"
   ]
  },
  {
   "cell_type": "code",
   "execution_count": 62,
   "metadata": {},
   "outputs": [
    {
     "data": {
      "image/png": "[encoded data removed]",
      "text/plain": [
       "<Figure size 600x600 with 1 Axes>"
      ]
     },
     "metadata": {},
     "output_type": "display_data"
    }
   ],
   "source": [
    "# Plotting a pie chart of average daily raids\n",
    "avg_com=data[data['Booking Status'] == 'Completed'].groupby('Date')['Booking Status'].count().mean()\n",
    "avg_incom=data[data['Booking Status'] == 'Incomplete'].groupby('Date')['Booking Status'].count().mean()\n",
    "avg_c_d=data[data['Booking Status'] == 'Cancelled by Driver'].groupby('Date')['Booking Status'].count().mean()\n",
    "avg_c_c=data[data['Booking Status'] == 'Cancelled by Customer'].groupby('Date')['Booking Status'].count().mean()\n",
    "\n",
    "avg_data={\n",
    "    \"completed\":avg_com,\n",
    "    \"Incomplete\":avg_incom,\n",
    "    \"Cancelled by Driver\":avg_c_d,\n",
    "    \"Cancelled by Customer\":avg_c_c\n",
    "}\n",
    "\n",
    "plt.figure(figsize=(6,6))\n",
    "plt.pie(avg_data.values(), labels=avg_data.keys(), autopct='%1.1f%%', startangle=90)\n",
    "plt.title(\"Average Daily Raids by Status\")\n",
    "plt.show()"
   ]
  },
  {
   "cell_type": "code",
   "execution_count": 63,
   "metadata": {},
   "outputs": [],
   "source": [
    "# Function to differentiate time into different time-periods\n",
    "def label_time(time):\n",
    "    if time is None or pd.isna(time):\n",
    "        return \"UnKnown\"\n",
    "    if time >=dt.time(5,0) and time<dt.time(12,0):\n",
    "        return \"Morning\"\n",
    "    elif time >= dt.time(12,0) and time < dt.time(16,30):\n",
    "        return \"Afternoon\"\n",
    "    elif time >= dt.time(16,30) and time < dt.time(21,0):\n",
    "        return \"Evening\"\n",
    "    else:\n",
    "        return \"Night\""
   ]
  },
  {
   "cell_type": "code",
   "execution_count": 64,
   "metadata": {},
   "outputs": [],
   "source": [
    "# applying a function to create a time-period columns\n",
    "data['Period']=data['Time'].apply(label_time)"
   ]
  },
  {
   "cell_type": "code",
   "execution_count": 65,
   "metadata": {},
   "outputs": [
    {
     "data": {
      "text/html": [
       "<div>\n",
       "<style scoped>\n",
       "    .dataframe tbody tr th:only-of-type {\n",
       "        vertical-align: middle;\n",
       "    }\n",
       "\n",
       "    .dataframe tbody tr th {\n",
       "        vertical-align: top;\n",
       "    }\n",
       "\n",
       "    .dataframe thead th {\n",
       "        text-align: right;\n",
       "    }\n",
       "</style>\n",
       "<table border=\"1\" class=\"dataframe\">\n",
       "  <thead>\n",
       "    <tr style=\"text-align: right;\">\n",
       "      <th></th>\n",
       "      <th>Date</th>\n",
       "      <th>Time</th>\n",
       "      <th>Booking Status</th>\n",
       "      <th>Vehicle Type</th>\n",
       "      <th>Pickup Location</th>\n",
       "      <th>Drop Location</th>\n",
       "      <th>Avg VTAT</th>\n",
       "      <th>Avg CTAT</th>\n",
       "      <th>Cancelled Rides by Customer</th>\n",
       "      <th>Reason for cancelling by Customer</th>\n",
       "      <th>...</th>\n",
       "      <th>Driver Cancellation Reason</th>\n",
       "      <th>Incomplete Rides</th>\n",
       "      <th>Incomplete Rides Reason</th>\n",
       "      <th>Booking Value</th>\n",
       "      <th>Ride Distance</th>\n",
       "      <th>Driver Ratings</th>\n",
       "      <th>Customer Rating</th>\n",
       "      <th>Payment Method</th>\n",
       "      <th>null_counter</th>\n",
       "      <th>Period</th>\n",
       "    </tr>\n",
       "  </thead>\n",
       "  <tbody>\n",
       "    <tr>\n",
       "      <th>1</th>\n",
       "      <td>2024-11-29</td>\n",
       "      <td>18:01:39</td>\n",
       "      <td>Incomplete</td>\n",
       "      <td>Go Sedan</td>\n",
       "      <td>Shastri Nagar</td>\n",
       "      <td>Gurgaon Sector 56</td>\n",
       "      <td>4.9</td>\n",
       "      <td>14.0</td>\n",
       "      <td>0.0</td>\n",
       "      <td>Not Applicable</td>\n",
       "      <td>...</td>\n",
       "      <td>Not Applicable</td>\n",
       "      <td>1.0</td>\n",
       "      <td>Vehicle Breakdown</td>\n",
       "      <td>237.0</td>\n",
       "      <td>5.73</td>\n",
       "      <td>3.01519</td>\n",
       "      <td>3.138899</td>\n",
       "      <td>UPI</td>\n",
       "      <td>6</td>\n",
       "      <td>Evening</td>\n",
       "    </tr>\n",
       "    <tr>\n",
       "      <th>2</th>\n",
       "      <td>2024-08-23</td>\n",
       "      <td>08:56:10</td>\n",
       "      <td>Completed</td>\n",
       "      <td>Auto</td>\n",
       "      <td>Khandsa</td>\n",
       "      <td>Malviya Nagar</td>\n",
       "      <td>13.4</td>\n",
       "      <td>25.8</td>\n",
       "      <td>0.0</td>\n",
       "      <td>Not Applicable</td>\n",
       "      <td>...</td>\n",
       "      <td>Not Applicable</td>\n",
       "      <td>0.0</td>\n",
       "      <td>Not Applicable</td>\n",
       "      <td>627.0</td>\n",
       "      <td>13.58</td>\n",
       "      <td>4.90000</td>\n",
       "      <td>4.900000</td>\n",
       "      <td>Debit Card</td>\n",
       "      <td>6</td>\n",
       "      <td>Morning</td>\n",
       "    </tr>\n",
       "    <tr>\n",
       "      <th>3</th>\n",
       "      <td>2024-10-21</td>\n",
       "      <td>17:17:25</td>\n",
       "      <td>Completed</td>\n",
       "      <td>Premier Sedan</td>\n",
       "      <td>Central Secretariat</td>\n",
       "      <td>Inderlok</td>\n",
       "      <td>13.1</td>\n",
       "      <td>28.5</td>\n",
       "      <td>0.0</td>\n",
       "      <td>Not Applicable</td>\n",
       "      <td>...</td>\n",
       "      <td>Not Applicable</td>\n",
       "      <td>0.0</td>\n",
       "      <td>Not Applicable</td>\n",
       "      <td>416.0</td>\n",
       "      <td>34.02</td>\n",
       "      <td>4.60000</td>\n",
       "      <td>5.000000</td>\n",
       "      <td>UPI</td>\n",
       "      <td>6</td>\n",
       "      <td>Evening</td>\n",
       "    </tr>\n",
       "    <tr>\n",
       "      <th>4</th>\n",
       "      <td>2024-09-16</td>\n",
       "      <td>22:08:00</td>\n",
       "      <td>Completed</td>\n",
       "      <td>Bike</td>\n",
       "      <td>Ghitorni Village</td>\n",
       "      <td>Khan Market</td>\n",
       "      <td>5.3</td>\n",
       "      <td>19.6</td>\n",
       "      <td>0.0</td>\n",
       "      <td>Not Applicable</td>\n",
       "      <td>...</td>\n",
       "      <td>Not Applicable</td>\n",
       "      <td>0.0</td>\n",
       "      <td>Not Applicable</td>\n",
       "      <td>737.0</td>\n",
       "      <td>48.21</td>\n",
       "      <td>4.10000</td>\n",
       "      <td>4.300000</td>\n",
       "      <td>UPI</td>\n",
       "      <td>6</td>\n",
       "      <td>Night</td>\n",
       "    </tr>\n",
       "    <tr>\n",
       "      <th>5</th>\n",
       "      <td>2024-02-06</td>\n",
       "      <td>09:44:56</td>\n",
       "      <td>Completed</td>\n",
       "      <td>Auto</td>\n",
       "      <td>AIIMS</td>\n",
       "      <td>Narsinghpur</td>\n",
       "      <td>5.1</td>\n",
       "      <td>18.1</td>\n",
       "      <td>0.0</td>\n",
       "      <td>Not Applicable</td>\n",
       "      <td>...</td>\n",
       "      <td>Not Applicable</td>\n",
       "      <td>0.0</td>\n",
       "      <td>Not Applicable</td>\n",
       "      <td>316.0</td>\n",
       "      <td>4.85</td>\n",
       "      <td>4.10000</td>\n",
       "      <td>4.600000</td>\n",
       "      <td>UPI</td>\n",
       "      <td>6</td>\n",
       "      <td>Morning</td>\n",
       "    </tr>\n",
       "    <tr>\n",
       "      <th>...</th>\n",
       "      <td>...</td>\n",
       "      <td>...</td>\n",
       "      <td>...</td>\n",
       "      <td>...</td>\n",
       "      <td>...</td>\n",
       "      <td>...</td>\n",
       "      <td>...</td>\n",
       "      <td>...</td>\n",
       "      <td>...</td>\n",
       "      <td>...</td>\n",
       "      <td>...</td>\n",
       "      <td>...</td>\n",
       "      <td>...</td>\n",
       "      <td>...</td>\n",
       "      <td>...</td>\n",
       "      <td>...</td>\n",
       "      <td>...</td>\n",
       "      <td>...</td>\n",
       "      <td>...</td>\n",
       "      <td>...</td>\n",
       "      <td>...</td>\n",
       "    </tr>\n",
       "    <tr>\n",
       "      <th>149995</th>\n",
       "      <td>2024-11-11</td>\n",
       "      <td>19:34:01</td>\n",
       "      <td>Completed</td>\n",
       "      <td>Go Mini</td>\n",
       "      <td>MG Road</td>\n",
       "      <td>Ghitorni</td>\n",
       "      <td>10.2</td>\n",
       "      <td>44.4</td>\n",
       "      <td>0.0</td>\n",
       "      <td>Not Applicable</td>\n",
       "      <td>...</td>\n",
       "      <td>Not Applicable</td>\n",
       "      <td>0.0</td>\n",
       "      <td>Not Applicable</td>\n",
       "      <td>475.0</td>\n",
       "      <td>40.08</td>\n",
       "      <td>3.70000</td>\n",
       "      <td>4.100000</td>\n",
       "      <td>Uber Wallet</td>\n",
       "      <td>6</td>\n",
       "      <td>Evening</td>\n",
       "    </tr>\n",
       "    <tr>\n",
       "      <th>149996</th>\n",
       "      <td>2024-11-24</td>\n",
       "      <td>15:55:09</td>\n",
       "      <td>Completed</td>\n",
       "      <td>Go Mini</td>\n",
       "      <td>Golf Course Road</td>\n",
       "      <td>Akshardham</td>\n",
       "      <td>5.1</td>\n",
       "      <td>30.8</td>\n",
       "      <td>0.0</td>\n",
       "      <td>Not Applicable</td>\n",
       "      <td>...</td>\n",
       "      <td>Not Applicable</td>\n",
       "      <td>0.0</td>\n",
       "      <td>Not Applicable</td>\n",
       "      <td>1093.0</td>\n",
       "      <td>21.31</td>\n",
       "      <td>4.80000</td>\n",
       "      <td>5.000000</td>\n",
       "      <td>UPI</td>\n",
       "      <td>6</td>\n",
       "      <td>Afternoon</td>\n",
       "    </tr>\n",
       "    <tr>\n",
       "      <th>149997</th>\n",
       "      <td>2024-09-18</td>\n",
       "      <td>10:55:15</td>\n",
       "      <td>Completed</td>\n",
       "      <td>Go Sedan</td>\n",
       "      <td>Satguru Ram Singh Marg</td>\n",
       "      <td>Jor Bagh</td>\n",
       "      <td>2.7</td>\n",
       "      <td>23.4</td>\n",
       "      <td>0.0</td>\n",
       "      <td>Not Applicable</td>\n",
       "      <td>...</td>\n",
       "      <td>Not Applicable</td>\n",
       "      <td>0.0</td>\n",
       "      <td>Not Applicable</td>\n",
       "      <td>852.0</td>\n",
       "      <td>15.93</td>\n",
       "      <td>3.90000</td>\n",
       "      <td>4.400000</td>\n",
       "      <td>Cash</td>\n",
       "      <td>6</td>\n",
       "      <td>Morning</td>\n",
       "    </tr>\n",
       "    <tr>\n",
       "      <th>149998</th>\n",
       "      <td>2024-10-05</td>\n",
       "      <td>07:53:34</td>\n",
       "      <td>Completed</td>\n",
       "      <td>Auto</td>\n",
       "      <td>Ghaziabad</td>\n",
       "      <td>Saidulajab</td>\n",
       "      <td>6.9</td>\n",
       "      <td>39.6</td>\n",
       "      <td>0.0</td>\n",
       "      <td>Not Applicable</td>\n",
       "      <td>...</td>\n",
       "      <td>Not Applicable</td>\n",
       "      <td>0.0</td>\n",
       "      <td>Not Applicable</td>\n",
       "      <td>333.0</td>\n",
       "      <td>45.54</td>\n",
       "      <td>4.10000</td>\n",
       "      <td>3.700000</td>\n",
       "      <td>UPI</td>\n",
       "      <td>6</td>\n",
       "      <td>Morning</td>\n",
       "    </tr>\n",
       "    <tr>\n",
       "      <th>149999</th>\n",
       "      <td>2024-03-10</td>\n",
       "      <td>15:38:03</td>\n",
       "      <td>Completed</td>\n",
       "      <td>Premier Sedan</td>\n",
       "      <td>Ashok Park Main</td>\n",
       "      <td>Gurgaon Sector 29</td>\n",
       "      <td>3.5</td>\n",
       "      <td>33.7</td>\n",
       "      <td>0.0</td>\n",
       "      <td>Not Applicable</td>\n",
       "      <td>...</td>\n",
       "      <td>Not Applicable</td>\n",
       "      <td>0.0</td>\n",
       "      <td>Not Applicable</td>\n",
       "      <td>806.0</td>\n",
       "      <td>21.19</td>\n",
       "      <td>4.60000</td>\n",
       "      <td>4.900000</td>\n",
       "      <td>Credit Card</td>\n",
       "      <td>6</td>\n",
       "      <td>Afternoon</td>\n",
       "    </tr>\n",
       "  </tbody>\n",
       "</table>\n",
       "<p>139500 rows × 21 columns</p>\n",
       "</div>"
      ],
      "text/plain": [
       "             Date      Time Booking Status   Vehicle Type  \\\n",
       "1      2024-11-29  18:01:39     Incomplete       Go Sedan   \n",
       "2      2024-08-23  08:56:10      Completed           Auto   \n",
       "3      2024-10-21  17:17:25      Completed  Premier Sedan   \n",
       "4      2024-09-16  22:08:00      Completed           Bike   \n",
       "5      2024-02-06  09:44:56      Completed           Auto   \n",
       "...           ...       ...            ...            ...   \n",
       "149995 2024-11-11  19:34:01      Completed        Go Mini   \n",
       "149996 2024-11-24  15:55:09      Completed        Go Mini   \n",
       "149997 2024-09-18  10:55:15      Completed       Go Sedan   \n",
       "149998 2024-10-05  07:53:34      Completed           Auto   \n",
       "149999 2024-03-10  15:38:03      Completed  Premier Sedan   \n",
       "\n",
       "               Pickup Location      Drop Location  Avg VTAT  Avg CTAT  \\\n",
       "1                Shastri Nagar  Gurgaon Sector 56       4.9      14.0   \n",
       "2                      Khandsa      Malviya Nagar      13.4      25.8   \n",
       "3          Central Secretariat           Inderlok      13.1      28.5   \n",
       "4             Ghitorni Village        Khan Market       5.3      19.6   \n",
       "5                        AIIMS        Narsinghpur       5.1      18.1   \n",
       "...                        ...                ...       ...       ...   \n",
       "149995                 MG Road           Ghitorni      10.2      44.4   \n",
       "149996        Golf Course Road         Akshardham       5.1      30.8   \n",
       "149997  Satguru Ram Singh Marg           Jor Bagh       2.7      23.4   \n",
       "149998               Ghaziabad         Saidulajab       6.9      39.6   \n",
       "149999         Ashok Park Main  Gurgaon Sector 29       3.5      33.7   \n",
       "\n",
       "        Cancelled Rides by Customer Reason for cancelling by Customer  ...  \\\n",
       "1                               0.0                    Not Applicable  ...   \n",
       "2                               0.0                    Not Applicable  ...   \n",
       "3                               0.0                    Not Applicable  ...   \n",
       "4                               0.0                    Not Applicable  ...   \n",
       "5                               0.0                    Not Applicable  ...   \n",
       "...                             ...                               ...  ...   \n",
       "149995                          0.0                    Not Applicable  ...   \n",
       "149996                          0.0                    Not Applicable  ...   \n",
       "149997                          0.0                    Not Applicable  ...   \n",
       "149998                          0.0                    Not Applicable  ...   \n",
       "149999                          0.0                    Not Applicable  ...   \n",
       "\n",
       "        Driver Cancellation Reason Incomplete Rides  Incomplete Rides Reason  \\\n",
       "1                   Not Applicable              1.0        Vehicle Breakdown   \n",
       "2                   Not Applicable              0.0           Not Applicable   \n",
       "3                   Not Applicable              0.0           Not Applicable   \n",
       "4                   Not Applicable              0.0           Not Applicable   \n",
       "5                   Not Applicable              0.0           Not Applicable   \n",
       "...                            ...              ...                      ...   \n",
       "149995              Not Applicable              0.0           Not Applicable   \n",
       "149996              Not Applicable              0.0           Not Applicable   \n",
       "149997              Not Applicable              0.0           Not Applicable   \n",
       "149998              Not Applicable              0.0           Not Applicable   \n",
       "149999              Not Applicable              0.0           Not Applicable   \n",
       "\n",
       "       Booking Value  Ride Distance  Driver Ratings  Customer Rating  \\\n",
       "1              237.0           5.73         3.01519         3.138899   \n",
       "2              627.0          13.58         4.90000         4.900000   \n",
       "3              416.0          34.02         4.60000         5.000000   \n",
       "4              737.0          48.21         4.10000         4.300000   \n",
       "5              316.0           4.85         4.10000         4.600000   \n",
       "...              ...            ...             ...              ...   \n",
       "149995         475.0          40.08         3.70000         4.100000   \n",
       "149996        1093.0          21.31         4.80000         5.000000   \n",
       "149997         852.0          15.93         3.90000         4.400000   \n",
       "149998         333.0          45.54         4.10000         3.700000   \n",
       "149999         806.0          21.19         4.60000         4.900000   \n",
       "\n",
       "        Payment Method null_counter     Period  \n",
       "1                  UPI            6    Evening  \n",
       "2           Debit Card            6    Morning  \n",
       "3                  UPI            6    Evening  \n",
       "4                  UPI            6      Night  \n",
       "5                  UPI            6    Morning  \n",
       "...                ...          ...        ...  \n",
       "149995     Uber Wallet            6    Evening  \n",
       "149996             UPI            6  Afternoon  \n",
       "149997            Cash            6    Morning  \n",
       "149998             UPI            6    Morning  \n",
       "149999     Credit Card            6  Afternoon  \n",
       "\n",
       "[139500 rows x 21 columns]"
      ]
     },
     "execution_count": 65,
     "metadata": {},
     "output_type": "execute_result"
    }
   ],
   "source": [
    "data"
   ]
  },
  {
   "cell_type": "code",
   "execution_count": 66,
   "metadata": {},
   "outputs": [
    {
     "data": {
      "text/plain": [
       "Period     Booking Status       \n",
       "Afternoon  Completed                20036\n",
       "           Cancelled by Driver       5924\n",
       "           Cancelled by Customer     2330\n",
       "           Incomplete                1950\n",
       "Evening    Completed                30295\n",
       "           Cancelled by Driver       8835\n",
       "           Cancelled by Customer     3410\n",
       "           Incomplete                2989\n",
       "Morning    Completed                28258\n",
       "           Cancelled by Driver       8126\n",
       "           Cancelled by Customer     3165\n",
       "           Incomplete                2714\n",
       "Night      Completed                14411\n",
       "           Cancelled by Driver       4115\n",
       "           Cancelled by Customer     1595\n",
       "           Incomplete                1347\n",
       "Name: count, dtype: int64"
      ]
     },
     "execution_count": 66,
     "metadata": {},
     "output_type": "execute_result"
    }
   ],
   "source": [
    "# Time-Period wise Booking Status\n",
    "data.groupby('Period')['Booking Status'].value_counts()"
   ]
  },
  {
   "cell_type": "code",
   "execution_count": 120,
   "metadata": {},
   "outputs": [
    {
     "data": {
      "image/png": "[encoded data removed]",
      "text/plain": [
       "<Figure size 640x480 with 1 Axes>"
      ]
     },
     "metadata": {},
     "output_type": "display_data"
    }
   ],
   "source": [
    "grf=sns.countplot(data['Period'])\n",
    "for con in grf.containers:\n",
    "    grf.bar_label(con)\n",
    "plt.title('Time Period wise Booking data')\n",
    "plt.show()"
   ]
  },
  {
   "cell_type": "code",
   "execution_count": 123,
   "metadata": {},
   "outputs": [
    {
     "data": {
      "image/png": "[encoded data removed]",
      "text/plain": [
       "<Figure size 3117.75x500 with 6 Axes>"
      ]
     },
     "metadata": {},
     "output_type": "display_data"
    }
   ],
   "source": [
    "sns.catplot(x='Vehicle Type', hue='Period', col='Payment Method',data=data, kind='count')\n",
    "plt.title(\"Kinds of vehicle used in a different periods and the payments methods used\")\n",
    "plt.show()"
   ]
  },
  {
   "cell_type": "code",
   "execution_count": 69,
   "metadata": {},
   "outputs": [
    {
     "data": {
      "text/html": [
       "<div>\n",
       "<style scoped>\n",
       "    .dataframe tbody tr th:only-of-type {\n",
       "        vertical-align: middle;\n",
       "    }\n",
       "\n",
       "    .dataframe tbody tr th {\n",
       "        vertical-align: top;\n",
       "    }\n",
       "\n",
       "    .dataframe thead th {\n",
       "        text-align: right;\n",
       "    }\n",
       "</style>\n",
       "<table border=\"1\" class=\"dataframe\">\n",
       "  <thead>\n",
       "    <tr style=\"text-align: right;\">\n",
       "      <th>Payment Method</th>\n",
       "      <th>Cash</th>\n",
       "      <th>Credit Card</th>\n",
       "      <th>Debit Card</th>\n",
       "      <th>Not Applicable</th>\n",
       "      <th>UPI</th>\n",
       "      <th>Uber Wallet</th>\n",
       "    </tr>\n",
       "    <tr>\n",
       "      <th>Vehicle Type</th>\n",
       "      <th></th>\n",
       "      <th></th>\n",
       "      <th></th>\n",
       "      <th></th>\n",
       "      <th></th>\n",
       "      <th></th>\n",
       "    </tr>\n",
       "  </thead>\n",
       "  <tbody>\n",
       "    <tr>\n",
       "      <th>Auto</th>\n",
       "      <td>6252</td>\n",
       "      <td>2568</td>\n",
       "      <td>2097</td>\n",
       "      <td>9323</td>\n",
       "      <td>11336</td>\n",
       "      <td>3162</td>\n",
       "    </tr>\n",
       "    <tr>\n",
       "      <th>Bike</th>\n",
       "      <td>3854</td>\n",
       "      <td>1527</td>\n",
       "      <td>1222</td>\n",
       "      <td>5652</td>\n",
       "      <td>6966</td>\n",
       "      <td>1793</td>\n",
       "    </tr>\n",
       "    <tr>\n",
       "      <th>Go Mini</th>\n",
       "      <td>5137</td>\n",
       "      <td>2006</td>\n",
       "      <td>1608</td>\n",
       "      <td>7427</td>\n",
       "      <td>9256</td>\n",
       "      <td>2357</td>\n",
       "    </tr>\n",
       "    <tr>\n",
       "      <th>Go Sedan</th>\n",
       "      <td>4643</td>\n",
       "      <td>1884</td>\n",
       "      <td>1470</td>\n",
       "      <td>6863</td>\n",
       "      <td>8153</td>\n",
       "      <td>2168</td>\n",
       "    </tr>\n",
       "    <tr>\n",
       "      <th>Premier Sedan</th>\n",
       "      <td>2990</td>\n",
       "      <td>1240</td>\n",
       "      <td>1007</td>\n",
       "      <td>4516</td>\n",
       "      <td>5574</td>\n",
       "      <td>1504</td>\n",
       "    </tr>\n",
       "    <tr>\n",
       "      <th>Uber XL</th>\n",
       "      <td>784</td>\n",
       "      <td>278</td>\n",
       "      <td>267</td>\n",
       "      <td>1089</td>\n",
       "      <td>1329</td>\n",
       "      <td>387</td>\n",
       "    </tr>\n",
       "    <tr>\n",
       "      <th>eBike</th>\n",
       "      <td>1707</td>\n",
       "      <td>706</td>\n",
       "      <td>568</td>\n",
       "      <td>2630</td>\n",
       "      <td>3295</td>\n",
       "      <td>905</td>\n",
       "    </tr>\n",
       "  </tbody>\n",
       "</table>\n",
       "</div>"
      ],
      "text/plain": [
       "Payment Method  Cash  Credit Card  Debit Card  Not Applicable    UPI  \\\n",
       "Vehicle Type                                                           \n",
       "Auto            6252         2568        2097            9323  11336   \n",
       "Bike            3854         1527        1222            5652   6966   \n",
       "Go Mini         5137         2006        1608            7427   9256   \n",
       "Go Sedan        4643         1884        1470            6863   8153   \n",
       "Premier Sedan   2990         1240        1007            4516   5574   \n",
       "Uber XL          784          278         267            1089   1329   \n",
       "eBike           1707          706         568            2630   3295   \n",
       "\n",
       "Payment Method  Uber Wallet  \n",
       "Vehicle Type                 \n",
       "Auto                   3162  \n",
       "Bike                   1793  \n",
       "Go Mini                2357  \n",
       "Go Sedan               2168  \n",
       "Premier Sedan          1504  \n",
       "Uber XL                 387  \n",
       "eBike                   905  "
      ]
     },
     "execution_count": 69,
     "metadata": {},
     "output_type": "execute_result"
    }
   ],
   "source": [
    "# vehicle wise payment methods count\n",
    "pd.crosstab(data['Vehicle Type'], data['Payment Method'])"
   ]
  },
  {
   "cell_type": "code",
   "execution_count": 70,
   "metadata": {},
   "outputs": [
    {
     "data": {
      "text/html": [
       "<div>\n",
       "<style scoped>\n",
       "    .dataframe tbody tr th:only-of-type {\n",
       "        vertical-align: middle;\n",
       "    }\n",
       "\n",
       "    .dataframe tbody tr th {\n",
       "        vertical-align: top;\n",
       "    }\n",
       "\n",
       "    .dataframe thead th {\n",
       "        text-align: right;\n",
       "    }\n",
       "</style>\n",
       "<table border=\"1\" class=\"dataframe\">\n",
       "  <thead>\n",
       "    <tr style=\"text-align: right;\">\n",
       "      <th>Period</th>\n",
       "      <th>Afternoon</th>\n",
       "      <th>Evening</th>\n",
       "      <th>Morning</th>\n",
       "      <th>Night</th>\n",
       "    </tr>\n",
       "    <tr>\n",
       "      <th>Vehicle Type</th>\n",
       "      <th></th>\n",
       "      <th></th>\n",
       "      <th></th>\n",
       "      <th></th>\n",
       "    </tr>\n",
       "  </thead>\n",
       "  <tbody>\n",
       "    <tr>\n",
       "      <th>Auto</th>\n",
       "      <td>7617</td>\n",
       "      <td>11370</td>\n",
       "      <td>10461</td>\n",
       "      <td>5290</td>\n",
       "    </tr>\n",
       "    <tr>\n",
       "      <th>Bike</th>\n",
       "      <td>4542</td>\n",
       "      <td>6856</td>\n",
       "      <td>6297</td>\n",
       "      <td>3319</td>\n",
       "    </tr>\n",
       "    <tr>\n",
       "      <th>Go Mini</th>\n",
       "      <td>6060</td>\n",
       "      <td>8991</td>\n",
       "      <td>8514</td>\n",
       "      <td>4226</td>\n",
       "    </tr>\n",
       "    <tr>\n",
       "      <th>Go Sedan</th>\n",
       "      <td>5313</td>\n",
       "      <td>8266</td>\n",
       "      <td>7660</td>\n",
       "      <td>3942</td>\n",
       "    </tr>\n",
       "    <tr>\n",
       "      <th>Premier Sedan</th>\n",
       "      <td>3721</td>\n",
       "      <td>5430</td>\n",
       "      <td>5154</td>\n",
       "      <td>2526</td>\n",
       "    </tr>\n",
       "    <tr>\n",
       "      <th>Uber XL</th>\n",
       "      <td>924</td>\n",
       "      <td>1347</td>\n",
       "      <td>1225</td>\n",
       "      <td>638</td>\n",
       "    </tr>\n",
       "    <tr>\n",
       "      <th>eBike</th>\n",
       "      <td>2063</td>\n",
       "      <td>3269</td>\n",
       "      <td>2952</td>\n",
       "      <td>1527</td>\n",
       "    </tr>\n",
       "  </tbody>\n",
       "</table>\n",
       "</div>"
      ],
      "text/plain": [
       "Period         Afternoon  Evening  Morning  Night\n",
       "Vehicle Type                                     \n",
       "Auto                7617    11370    10461   5290\n",
       "Bike                4542     6856     6297   3319\n",
       "Go Mini             6060     8991     8514   4226\n",
       "Go Sedan            5313     8266     7660   3942\n",
       "Premier Sedan       3721     5430     5154   2526\n",
       "Uber XL              924     1347     1225    638\n",
       "eBike               2063     3269     2952   1527"
      ]
     },
     "execution_count": 70,
     "metadata": {},
     "output_type": "execute_result"
    }
   ],
   "source": [
    "# kinds of vehicle used in different period of time\n",
    "pd.crosstab(data['Vehicle Type'], data['Period'])"
   ]
  },
  {
   "cell_type": "code",
   "execution_count": 125,
   "metadata": {},
   "outputs": [
    {
     "data": {
      "image/png": "[encoded data removed]",
      "text/plain": [
       "<Figure size 1000x600 with 1 Axes>"
      ]
     },
     "metadata": {},
     "output_type": "display_data"
    }
   ],
   "source": [
    "plt.figure(figsize=(10,6))\n",
    "pl=sns.countplot(data=data, x='Period', hue='Vehicle Type')\n",
    "\n",
    "for con in pl.containers:\n",
    "    pl.bar_label(con)\n",
    "plt.title(\"kinds of vehicle counts used in different period of time\")\n",
    "plt.show()"
   ]
  },
  {
   "cell_type": "markdown",
   "metadata": {},
   "source": [
    "<h5 style=\"color:red; text-size:10px\">Analysing Morning data</h5>"
   ]
  },
  {
   "cell_type": "code",
   "execution_count": 72,
   "metadata": {},
   "outputs": [
    {
     "data": {
      "text/plain": [
       "(42263, 21)"
      ]
     },
     "execution_count": 72,
     "metadata": {},
     "output_type": "execute_result"
    }
   ],
   "source": [
    "# dividing a morning travel data into new dataframe\n",
    "mdata=data[data['Period']=='Morning']\n",
    "mdata.shape"
   ]
  },
  {
   "cell_type": "code",
   "execution_count": 73,
   "metadata": {},
   "outputs": [
    {
     "data": {
      "text/html": [
       "<div>\n",
       "<style scoped>\n",
       "    .dataframe tbody tr th:only-of-type {\n",
       "        vertical-align: middle;\n",
       "    }\n",
       "\n",
       "    .dataframe tbody tr th {\n",
       "        vertical-align: top;\n",
       "    }\n",
       "\n",
       "    .dataframe thead th {\n",
       "        text-align: right;\n",
       "    }\n",
       "</style>\n",
       "<table border=\"1\" class=\"dataframe\">\n",
       "  <thead>\n",
       "    <tr style=\"text-align: right;\">\n",
       "      <th></th>\n",
       "      <th>Date</th>\n",
       "      <th>Time</th>\n",
       "      <th>Booking Status</th>\n",
       "      <th>Vehicle Type</th>\n",
       "      <th>Pickup Location</th>\n",
       "      <th>Drop Location</th>\n",
       "      <th>Avg VTAT</th>\n",
       "      <th>Avg CTAT</th>\n",
       "      <th>Cancelled Rides by Customer</th>\n",
       "      <th>Reason for cancelling by Customer</th>\n",
       "      <th>...</th>\n",
       "      <th>Driver Cancellation Reason</th>\n",
       "      <th>Incomplete Rides</th>\n",
       "      <th>Incomplete Rides Reason</th>\n",
       "      <th>Booking Value</th>\n",
       "      <th>Ride Distance</th>\n",
       "      <th>Driver Ratings</th>\n",
       "      <th>Customer Rating</th>\n",
       "      <th>Payment Method</th>\n",
       "      <th>null_counter</th>\n",
       "      <th>Period</th>\n",
       "    </tr>\n",
       "  </thead>\n",
       "  <tbody>\n",
       "    <tr>\n",
       "      <th>2</th>\n",
       "      <td>2024-08-23</td>\n",
       "      <td>08:56:10</td>\n",
       "      <td>Completed</td>\n",
       "      <td>Auto</td>\n",
       "      <td>Khandsa</td>\n",
       "      <td>Malviya Nagar</td>\n",
       "      <td>13.4</td>\n",
       "      <td>25.8</td>\n",
       "      <td>0.0</td>\n",
       "      <td>Not Applicable</td>\n",
       "      <td>...</td>\n",
       "      <td>Not Applicable</td>\n",
       "      <td>0.0</td>\n",
       "      <td>Not Applicable</td>\n",
       "      <td>627.0</td>\n",
       "      <td>13.58</td>\n",
       "      <td>4.9</td>\n",
       "      <td>4.9</td>\n",
       "      <td>Debit Card</td>\n",
       "      <td>6</td>\n",
       "      <td>Morning</td>\n",
       "    </tr>\n",
       "    <tr>\n",
       "      <th>5</th>\n",
       "      <td>2024-02-06</td>\n",
       "      <td>09:44:56</td>\n",
       "      <td>Completed</td>\n",
       "      <td>Auto</td>\n",
       "      <td>AIIMS</td>\n",
       "      <td>Narsinghpur</td>\n",
       "      <td>5.1</td>\n",
       "      <td>18.1</td>\n",
       "      <td>0.0</td>\n",
       "      <td>Not Applicable</td>\n",
       "      <td>...</td>\n",
       "      <td>Not Applicable</td>\n",
       "      <td>0.0</td>\n",
       "      <td>Not Applicable</td>\n",
       "      <td>316.0</td>\n",
       "      <td>4.85</td>\n",
       "      <td>4.1</td>\n",
       "      <td>4.6</td>\n",
       "      <td>UPI</td>\n",
       "      <td>6</td>\n",
       "      <td>Morning</td>\n",
       "    </tr>\n",
       "    <tr>\n",
       "      <th>16</th>\n",
       "      <td>2024-07-01</td>\n",
       "      <td>10:51:16</td>\n",
       "      <td>Completed</td>\n",
       "      <td>Premier Sedan</td>\n",
       "      <td>IGI Airport</td>\n",
       "      <td>Madipur</td>\n",
       "      <td>5.6</td>\n",
       "      <td>27.5</td>\n",
       "      <td>0.0</td>\n",
       "      <td>Not Applicable</td>\n",
       "      <td>...</td>\n",
       "      <td>Not Applicable</td>\n",
       "      <td>0.0</td>\n",
       "      <td>Not Applicable</td>\n",
       "      <td>401.0</td>\n",
       "      <td>21.97</td>\n",
       "      <td>4.9</td>\n",
       "      <td>4.3</td>\n",
       "      <td>UPI</td>\n",
       "      <td>6</td>\n",
       "      <td>Morning</td>\n",
       "    </tr>\n",
       "  </tbody>\n",
       "</table>\n",
       "<p>3 rows × 21 columns</p>\n",
       "</div>"
      ],
      "text/plain": [
       "         Date      Time Booking Status   Vehicle Type Pickup Location  \\\n",
       "2  2024-08-23  08:56:10      Completed           Auto         Khandsa   \n",
       "5  2024-02-06  09:44:56      Completed           Auto           AIIMS   \n",
       "16 2024-07-01  10:51:16      Completed  Premier Sedan     IGI Airport   \n",
       "\n",
       "    Drop Location  Avg VTAT  Avg CTAT  Cancelled Rides by Customer  \\\n",
       "2   Malviya Nagar      13.4      25.8                          0.0   \n",
       "5     Narsinghpur       5.1      18.1                          0.0   \n",
       "16        Madipur       5.6      27.5                          0.0   \n",
       "\n",
       "   Reason for cancelling by Customer  ...  Driver Cancellation Reason  \\\n",
       "2                     Not Applicable  ...              Not Applicable   \n",
       "5                     Not Applicable  ...              Not Applicable   \n",
       "16                    Not Applicable  ...              Not Applicable   \n",
       "\n",
       "   Incomplete Rides  Incomplete Rides Reason Booking Value  Ride Distance  \\\n",
       "2               0.0           Not Applicable         627.0          13.58   \n",
       "5               0.0           Not Applicable         316.0           4.85   \n",
       "16              0.0           Not Applicable         401.0          21.97   \n",
       "\n",
       "    Driver Ratings  Customer Rating  Payment Method null_counter   Period  \n",
       "2              4.9              4.9      Debit Card            6  Morning  \n",
       "5              4.1              4.6             UPI            6  Morning  \n",
       "16             4.9              4.3             UPI            6  Morning  \n",
       "\n",
       "[3 rows x 21 columns]"
      ]
     },
     "execution_count": 73,
     "metadata": {},
     "output_type": "execute_result"
    }
   ],
   "source": [
    "mdata.head(3)"
   ]
  },
  {
   "cell_type": "code",
   "execution_count": 74,
   "metadata": {},
   "outputs": [],
   "source": [
    "# function to classify Morning timings into further classes like EarlyMorning, WorkingHours and LateMorning\n",
    "def define_morning(tym):\n",
    "    if tym is None:\n",
    "        return \"NaN\"\n",
    "    if tym >= dt.time(5,0) and tym < dt.time(7,30):\n",
    "        return \"EarlyMorning\"\n",
    "    elif tym >= dt.time(7,30) and tym < dt.time(10,30):\n",
    "        return \"WorkingHours\"\n",
    "    else:\n",
    "        return \"LateMorning\""
   ]
  },
  {
   "cell_type": "code",
   "execution_count": 75,
   "metadata": {},
   "outputs": [
    {
     "name": "stderr",
     "output_type": "stream",
     "text": [
      "C:\\Users\\rohan\\AppData\\Local\\Temp\\ipykernel_972\\2770475238.py:1: SettingWithCopyWarning: \n",
      "A value is trying to be set on a copy of a slice from a DataFrame.\n",
      "Try using .loc[row_indexer,col_indexer] = value instead\n",
      "\n",
      "See the caveats in the documentation: https://pandas.pydata.org/pandas-docs/stable/user_guide/indexing.html#returning-a-view-versus-a-copy\n",
      "  mdata['Period']=mdata['Time'].apply(define_morning)\n"
     ]
    },
    {
     "data": {
      "text/html": [
       "<div>\n",
       "<style scoped>\n",
       "    .dataframe tbody tr th:only-of-type {\n",
       "        vertical-align: middle;\n",
       "    }\n",
       "\n",
       "    .dataframe tbody tr th {\n",
       "        vertical-align: top;\n",
       "    }\n",
       "\n",
       "    .dataframe thead th {\n",
       "        text-align: right;\n",
       "    }\n",
       "</style>\n",
       "<table border=\"1\" class=\"dataframe\">\n",
       "  <thead>\n",
       "    <tr style=\"text-align: right;\">\n",
       "      <th></th>\n",
       "      <th>Date</th>\n",
       "      <th>Time</th>\n",
       "      <th>Booking Status</th>\n",
       "      <th>Vehicle Type</th>\n",
       "      <th>Pickup Location</th>\n",
       "      <th>Drop Location</th>\n",
       "      <th>Avg VTAT</th>\n",
       "      <th>Avg CTAT</th>\n",
       "      <th>Cancelled Rides by Customer</th>\n",
       "      <th>Reason for cancelling by Customer</th>\n",
       "      <th>...</th>\n",
       "      <th>Driver Cancellation Reason</th>\n",
       "      <th>Incomplete Rides</th>\n",
       "      <th>Incomplete Rides Reason</th>\n",
       "      <th>Booking Value</th>\n",
       "      <th>Ride Distance</th>\n",
       "      <th>Driver Ratings</th>\n",
       "      <th>Customer Rating</th>\n",
       "      <th>Payment Method</th>\n",
       "      <th>null_counter</th>\n",
       "      <th>Period</th>\n",
       "    </tr>\n",
       "  </thead>\n",
       "  <tbody>\n",
       "    <tr>\n",
       "      <th>2</th>\n",
       "      <td>2024-08-23</td>\n",
       "      <td>08:56:10</td>\n",
       "      <td>Completed</td>\n",
       "      <td>Auto</td>\n",
       "      <td>Khandsa</td>\n",
       "      <td>Malviya Nagar</td>\n",
       "      <td>13.4</td>\n",
       "      <td>25.8</td>\n",
       "      <td>0.0</td>\n",
       "      <td>Not Applicable</td>\n",
       "      <td>...</td>\n",
       "      <td>Not Applicable</td>\n",
       "      <td>0.0</td>\n",
       "      <td>Not Applicable</td>\n",
       "      <td>627.0</td>\n",
       "      <td>13.58</td>\n",
       "      <td>4.9</td>\n",
       "      <td>4.9</td>\n",
       "      <td>Debit Card</td>\n",
       "      <td>6</td>\n",
       "      <td>WorkingHours</td>\n",
       "    </tr>\n",
       "    <tr>\n",
       "      <th>5</th>\n",
       "      <td>2024-02-06</td>\n",
       "      <td>09:44:56</td>\n",
       "      <td>Completed</td>\n",
       "      <td>Auto</td>\n",
       "      <td>AIIMS</td>\n",
       "      <td>Narsinghpur</td>\n",
       "      <td>5.1</td>\n",
       "      <td>18.1</td>\n",
       "      <td>0.0</td>\n",
       "      <td>Not Applicable</td>\n",
       "      <td>...</td>\n",
       "      <td>Not Applicable</td>\n",
       "      <td>0.0</td>\n",
       "      <td>Not Applicable</td>\n",
       "      <td>316.0</td>\n",
       "      <td>4.85</td>\n",
       "      <td>4.1</td>\n",
       "      <td>4.6</td>\n",
       "      <td>UPI</td>\n",
       "      <td>6</td>\n",
       "      <td>WorkingHours</td>\n",
       "    </tr>\n",
       "    <tr>\n",
       "      <th>16</th>\n",
       "      <td>2024-07-01</td>\n",
       "      <td>10:51:16</td>\n",
       "      <td>Completed</td>\n",
       "      <td>Premier Sedan</td>\n",
       "      <td>IGI Airport</td>\n",
       "      <td>Madipur</td>\n",
       "      <td>5.6</td>\n",
       "      <td>27.5</td>\n",
       "      <td>0.0</td>\n",
       "      <td>Not Applicable</td>\n",
       "      <td>...</td>\n",
       "      <td>Not Applicable</td>\n",
       "      <td>0.0</td>\n",
       "      <td>Not Applicable</td>\n",
       "      <td>401.0</td>\n",
       "      <td>21.97</td>\n",
       "      <td>4.9</td>\n",
       "      <td>4.3</td>\n",
       "      <td>UPI</td>\n",
       "      <td>6</td>\n",
       "      <td>LateMorning</td>\n",
       "    </tr>\n",
       "  </tbody>\n",
       "</table>\n",
       "<p>3 rows × 21 columns</p>\n",
       "</div>"
      ],
      "text/plain": [
       "         Date      Time Booking Status   Vehicle Type Pickup Location  \\\n",
       "2  2024-08-23  08:56:10      Completed           Auto         Khandsa   \n",
       "5  2024-02-06  09:44:56      Completed           Auto           AIIMS   \n",
       "16 2024-07-01  10:51:16      Completed  Premier Sedan     IGI Airport   \n",
       "\n",
       "    Drop Location  Avg VTAT  Avg CTAT  Cancelled Rides by Customer  \\\n",
       "2   Malviya Nagar      13.4      25.8                          0.0   \n",
       "5     Narsinghpur       5.1      18.1                          0.0   \n",
       "16        Madipur       5.6      27.5                          0.0   \n",
       "\n",
       "   Reason for cancelling by Customer  ...  Driver Cancellation Reason  \\\n",
       "2                     Not Applicable  ...              Not Applicable   \n",
       "5                     Not Applicable  ...              Not Applicable   \n",
       "16                    Not Applicable  ...              Not Applicable   \n",
       "\n",
       "   Incomplete Rides  Incomplete Rides Reason Booking Value  Ride Distance  \\\n",
       "2               0.0           Not Applicable         627.0          13.58   \n",
       "5               0.0           Not Applicable         316.0           4.85   \n",
       "16              0.0           Not Applicable         401.0          21.97   \n",
       "\n",
       "    Driver Ratings  Customer Rating  Payment Method null_counter        Period  \n",
       "2              4.9              4.9      Debit Card            6  WorkingHours  \n",
       "5              4.1              4.6             UPI            6  WorkingHours  \n",
       "16             4.9              4.3             UPI            6   LateMorning  \n",
       "\n",
       "[3 rows x 21 columns]"
      ]
     },
     "execution_count": 75,
     "metadata": {},
     "output_type": "execute_result"
    }
   ],
   "source": [
    "# Applying a classifying function\n",
    "mdata['Period']=mdata['Time'].apply(define_morning)\n",
    "mdata.head(3)"
   ]
  },
  {
   "cell_type": "code",
   "execution_count": 76,
   "metadata": {},
   "outputs": [
    {
     "name": "stdout",
     "output_type": "stream",
     "text": [
      "Period\n",
      "WorkingHours    21056\n",
      "LateMorning     12225\n",
      "EarlyMorning     8982\n",
      "Name: count, dtype: int64\n"
     ]
    },
    {
     "data": {
      "image/png": "[encoded data removed]",
      "text/plain": [
       "<Figure size 640x480 with 1 Axes>"
      ]
     },
     "metadata": {},
     "output_type": "display_data"
    }
   ],
   "source": [
    "# Time classes wise Vehicle type count\n",
    "sns.countplot(mdata,x='Period', hue='Vehicle Type')\n",
    "print(mdata['Period'].value_counts())"
   ]
  },
  {
   "cell_type": "markdown",
   "metadata": {},
   "source": [
    "<h5 style=\"color:red; text-size:10px\">Analysing Afternoon data</h5>"
   ]
  },
  {
   "cell_type": "code",
   "execution_count": 77,
   "metadata": {},
   "outputs": [],
   "source": [
    "adata=data[data['Period']=='Afternoon']"
   ]
  },
  {
   "cell_type": "code",
   "execution_count": 78,
   "metadata": {},
   "outputs": [],
   "source": [
    "def define_afternoon(tym):\n",
    "    if tym is None:\n",
    "        return \"NaN\"\n",
    "    if tym >= dt.time(12,0) and tym < dt.time(14,30):\n",
    "        return \"EarlyNoon\"\n",
    "    elif tym >= dt.time(14,30) and tym < dt.time(16,30):\n",
    "        return \"LateNoon\""
   ]
  },
  {
   "cell_type": "code",
   "execution_count": 79,
   "metadata": {},
   "outputs": [
    {
     "name": "stderr",
     "output_type": "stream",
     "text": [
      "C:\\Users\\rohan\\AppData\\Local\\Temp\\ipykernel_972\\2761010596.py:1: SettingWithCopyWarning: \n",
      "A value is trying to be set on a copy of a slice from a DataFrame.\n",
      "Try using .loc[row_indexer,col_indexer] = value instead\n",
      "\n",
      "See the caveats in the documentation: https://pandas.pydata.org/pandas-docs/stable/user_guide/indexing.html#returning-a-view-versus-a-copy\n",
      "  adata['Period']=data['Time'].apply(define_afternoon)\n"
     ]
    }
   ],
   "source": [
    "adata['Period']=data['Time'].apply(define_afternoon)"
   ]
  },
  {
   "cell_type": "code",
   "execution_count": 80,
   "metadata": {},
   "outputs": [
    {
     "name": "stdout",
     "output_type": "stream",
     "text": [
      "Period\n",
      "LateNoon     15411\n",
      "EarlyNoon    14829\n",
      "Name: count, dtype: int64\n"
     ]
    },
    {
     "data": {
      "image/png": "[encoded data removed]",
      "text/plain": [
       "<Figure size 640x480 with 1 Axes>"
      ]
     },
     "metadata": {},
     "output_type": "display_data"
    }
   ],
   "source": [
    "sns.countplot(adata,x='Period', hue='Vehicle Type')\n",
    "print(adata['Period'].value_counts())"
   ]
  },
  {
   "cell_type": "markdown",
   "metadata": {},
   "source": [
    "<h5 style=\"color:red; text-size:10px\">Analysing Evening data</h5>"
   ]
  },
  {
   "cell_type": "code",
   "execution_count": 81,
   "metadata": {},
   "outputs": [
    {
     "data": {
      "text/html": [
       "<div>\n",
       "<style scoped>\n",
       "    .dataframe tbody tr th:only-of-type {\n",
       "        vertical-align: middle;\n",
       "    }\n",
       "\n",
       "    .dataframe tbody tr th {\n",
       "        vertical-align: top;\n",
       "    }\n",
       "\n",
       "    .dataframe thead th {\n",
       "        text-align: right;\n",
       "    }\n",
       "</style>\n",
       "<table border=\"1\" class=\"dataframe\">\n",
       "  <thead>\n",
       "    <tr style=\"text-align: right;\">\n",
       "      <th></th>\n",
       "      <th>Date</th>\n",
       "      <th>Time</th>\n",
       "      <th>Booking Status</th>\n",
       "      <th>Vehicle Type</th>\n",
       "      <th>Pickup Location</th>\n",
       "      <th>Drop Location</th>\n",
       "      <th>Avg VTAT</th>\n",
       "      <th>Avg CTAT</th>\n",
       "      <th>Cancelled Rides by Customer</th>\n",
       "      <th>Reason for cancelling by Customer</th>\n",
       "      <th>...</th>\n",
       "      <th>Driver Cancellation Reason</th>\n",
       "      <th>Incomplete Rides</th>\n",
       "      <th>Incomplete Rides Reason</th>\n",
       "      <th>Booking Value</th>\n",
       "      <th>Ride Distance</th>\n",
       "      <th>Driver Ratings</th>\n",
       "      <th>Customer Rating</th>\n",
       "      <th>Payment Method</th>\n",
       "      <th>null_counter</th>\n",
       "      <th>Period</th>\n",
       "    </tr>\n",
       "  </thead>\n",
       "  <tbody>\n",
       "    <tr>\n",
       "      <th>1</th>\n",
       "      <td>2024-11-29</td>\n",
       "      <td>18:01:39</td>\n",
       "      <td>Incomplete</td>\n",
       "      <td>Go Sedan</td>\n",
       "      <td>Shastri Nagar</td>\n",
       "      <td>Gurgaon Sector 56</td>\n",
       "      <td>4.9</td>\n",
       "      <td>14.0</td>\n",
       "      <td>0.0</td>\n",
       "      <td>Not Applicable</td>\n",
       "      <td>...</td>\n",
       "      <td>Not Applicable</td>\n",
       "      <td>1.0</td>\n",
       "      <td>Vehicle Breakdown</td>\n",
       "      <td>237.0</td>\n",
       "      <td>5.73</td>\n",
       "      <td>3.01519</td>\n",
       "      <td>3.138899</td>\n",
       "      <td>UPI</td>\n",
       "      <td>6</td>\n",
       "      <td>Evening</td>\n",
       "    </tr>\n",
       "    <tr>\n",
       "      <th>3</th>\n",
       "      <td>2024-10-21</td>\n",
       "      <td>17:17:25</td>\n",
       "      <td>Completed</td>\n",
       "      <td>Premier Sedan</td>\n",
       "      <td>Central Secretariat</td>\n",
       "      <td>Inderlok</td>\n",
       "      <td>13.1</td>\n",
       "      <td>28.5</td>\n",
       "      <td>0.0</td>\n",
       "      <td>Not Applicable</td>\n",
       "      <td>...</td>\n",
       "      <td>Not Applicable</td>\n",
       "      <td>0.0</td>\n",
       "      <td>Not Applicable</td>\n",
       "      <td>416.0</td>\n",
       "      <td>34.02</td>\n",
       "      <td>4.60000</td>\n",
       "      <td>5.000000</td>\n",
       "      <td>UPI</td>\n",
       "      <td>6</td>\n",
       "      <td>Evening</td>\n",
       "    </tr>\n",
       "    <tr>\n",
       "      <th>7</th>\n",
       "      <td>2024-03-19</td>\n",
       "      <td>17:37:37</td>\n",
       "      <td>Completed</td>\n",
       "      <td>Auto</td>\n",
       "      <td>Mayur Vihar</td>\n",
       "      <td>Cyber Hub</td>\n",
       "      <td>12.1</td>\n",
       "      <td>16.5</td>\n",
       "      <td>0.0</td>\n",
       "      <td>Not Applicable</td>\n",
       "      <td>...</td>\n",
       "      <td>Not Applicable</td>\n",
       "      <td>0.0</td>\n",
       "      <td>Not Applicable</td>\n",
       "      <td>136.0</td>\n",
       "      <td>6.56</td>\n",
       "      <td>4.40000</td>\n",
       "      <td>4.200000</td>\n",
       "      <td>UPI</td>\n",
       "      <td>6</td>\n",
       "      <td>Evening</td>\n",
       "    </tr>\n",
       "    <tr>\n",
       "      <th>9</th>\n",
       "      <td>2024-12-16</td>\n",
       "      <td>19:06:48</td>\n",
       "      <td>Incomplete</td>\n",
       "      <td>Auto</td>\n",
       "      <td>Rohini</td>\n",
       "      <td>Adarsh Nagar</td>\n",
       "      <td>6.1</td>\n",
       "      <td>26.0</td>\n",
       "      <td>0.0</td>\n",
       "      <td>Not Applicable</td>\n",
       "      <td>...</td>\n",
       "      <td>Not Applicable</td>\n",
       "      <td>1.0</td>\n",
       "      <td>Other Issue</td>\n",
       "      <td>135.0</td>\n",
       "      <td>10.36</td>\n",
       "      <td>3.01519</td>\n",
       "      <td>3.138899</td>\n",
       "      <td>Cash</td>\n",
       "      <td>6</td>\n",
       "      <td>Evening</td>\n",
       "    </tr>\n",
       "    <tr>\n",
       "      <th>13</th>\n",
       "      <td>2024-09-11</td>\n",
       "      <td>19:29:39</td>\n",
       "      <td>Completed</td>\n",
       "      <td>Go Mini</td>\n",
       "      <td>Malviya Nagar</td>\n",
       "      <td>Ghitorni Village</td>\n",
       "      <td>12.2</td>\n",
       "      <td>28.2</td>\n",
       "      <td>0.0</td>\n",
       "      <td>Not Applicable</td>\n",
       "      <td>...</td>\n",
       "      <td>Not Applicable</td>\n",
       "      <td>0.0</td>\n",
       "      <td>Not Applicable</td>\n",
       "      <td>394.0</td>\n",
       "      <td>21.44</td>\n",
       "      <td>4.10000</td>\n",
       "      <td>4.700000</td>\n",
       "      <td>UPI</td>\n",
       "      <td>6</td>\n",
       "      <td>Evening</td>\n",
       "    </tr>\n",
       "  </tbody>\n",
       "</table>\n",
       "<p>5 rows × 21 columns</p>\n",
       "</div>"
      ],
      "text/plain": [
       "         Date      Time Booking Status   Vehicle Type      Pickup Location  \\\n",
       "1  2024-11-29  18:01:39     Incomplete       Go Sedan        Shastri Nagar   \n",
       "3  2024-10-21  17:17:25      Completed  Premier Sedan  Central Secretariat   \n",
       "7  2024-03-19  17:37:37      Completed           Auto          Mayur Vihar   \n",
       "9  2024-12-16  19:06:48     Incomplete           Auto               Rohini   \n",
       "13 2024-09-11  19:29:39      Completed        Go Mini        Malviya Nagar   \n",
       "\n",
       "        Drop Location  Avg VTAT  Avg CTAT  Cancelled Rides by Customer  \\\n",
       "1   Gurgaon Sector 56       4.9      14.0                          0.0   \n",
       "3            Inderlok      13.1      28.5                          0.0   \n",
       "7           Cyber Hub      12.1      16.5                          0.0   \n",
       "9        Adarsh Nagar       6.1      26.0                          0.0   \n",
       "13   Ghitorni Village      12.2      28.2                          0.0   \n",
       "\n",
       "   Reason for cancelling by Customer  ...  Driver Cancellation Reason  \\\n",
       "1                     Not Applicable  ...              Not Applicable   \n",
       "3                     Not Applicable  ...              Not Applicable   \n",
       "7                     Not Applicable  ...              Not Applicable   \n",
       "9                     Not Applicable  ...              Not Applicable   \n",
       "13                    Not Applicable  ...              Not Applicable   \n",
       "\n",
       "   Incomplete Rides  Incomplete Rides Reason Booking Value  Ride Distance  \\\n",
       "1               1.0        Vehicle Breakdown         237.0           5.73   \n",
       "3               0.0           Not Applicable         416.0          34.02   \n",
       "7               0.0           Not Applicable         136.0           6.56   \n",
       "9               1.0              Other Issue         135.0          10.36   \n",
       "13              0.0           Not Applicable         394.0          21.44   \n",
       "\n",
       "    Driver Ratings  Customer Rating  Payment Method null_counter   Period  \n",
       "1          3.01519         3.138899             UPI            6  Evening  \n",
       "3          4.60000         5.000000             UPI            6  Evening  \n",
       "7          4.40000         4.200000             UPI            6  Evening  \n",
       "9          3.01519         3.138899            Cash            6  Evening  \n",
       "13         4.10000         4.700000             UPI            6  Evening  \n",
       "\n",
       "[5 rows x 21 columns]"
      ]
     },
     "execution_count": 81,
     "metadata": {},
     "output_type": "execute_result"
    }
   ],
   "source": [
    "edata=data[data['Period']=='Evening']\n",
    "edata.head()"
   ]
  },
  {
   "cell_type": "code",
   "execution_count": 82,
   "metadata": {},
   "outputs": [],
   "source": [
    "def define_eve(tym):\n",
    "    if tym is None:\n",
    "        return \"NA\"\n",
    "    if tym>=dt.time(16,30) and tym < dt.time(19,0):\n",
    "        return \"Early Evening\"\n",
    "    else:\n",
    "        return \"Late Evening\""
   ]
  },
  {
   "cell_type": "code",
   "execution_count": 83,
   "metadata": {},
   "outputs": [
    {
     "name": "stderr",
     "output_type": "stream",
     "text": [
      "C:\\Users\\rohan\\AppData\\Local\\Temp\\ipykernel_972\\2790358963.py:1: SettingWithCopyWarning: \n",
      "A value is trying to be set on a copy of a slice from a DataFrame.\n",
      "Try using .loc[row_indexer,col_indexer] = value instead\n",
      "\n",
      "See the caveats in the documentation: https://pandas.pydata.org/pandas-docs/stable/user_guide/indexing.html#returning-a-view-versus-a-copy\n",
      "  edata['Period']=edata['Time'].apply(define_eve)\n"
     ]
    }
   ],
   "source": [
    "edata['Period']=edata['Time'].apply(define_eve)"
   ]
  },
  {
   "cell_type": "code",
   "execution_count": 84,
   "metadata": {},
   "outputs": [
    {
     "name": "stdout",
     "output_type": "stream",
     "text": [
      "Period\n",
      "LateNoon     15411\n",
      "EarlyNoon    14829\n",
      "Name: count, dtype: int64\n"
     ]
    },
    {
     "data": {
      "image/png": "[encoded data removed]",
      "text/plain": [
       "<Figure size 640x480 with 1 Axes>"
      ]
     },
     "metadata": {},
     "output_type": "display_data"
    }
   ],
   "source": [
    "sns.countplot(edata,x='Period', hue='Vehicle Type')\n",
    "print(adata['Period'].value_counts())"
   ]
  },
  {
   "cell_type": "code",
   "execution_count": 128,
   "metadata": {},
   "outputs": [
    {
     "name": "stdout",
     "output_type": "stream",
     "text": [
      "Average Price in morning:   373.56441804888436\n",
      "Average Price in afternoon: 368.83783068783066\n",
      "Average Price in Evening:   369.886314217312\n"
     ]
    }
   ],
   "source": [
    "# checking the average travel cost across all the time classes\n",
    "print(f\"Average Price in morning:   {mdata['Booking Value'].mean()}\")\n",
    "print(f\"Average Price in afternoon: {adata['Booking Value'].mean()}\")\n",
    "print(f\"Average Price in Evening:   {edata['Booking Value'].mean()}\")"
   ]
  },
  {
   "cell_type": "code",
   "execution_count": 129,
   "metadata": {},
   "outputs": [
    {
     "data": {
      "text/plain": [
       "array(['Gurgaon Sector 56', 'Malviya Nagar', 'Inderlok', 'Khan Market',\n",
       "       'Narsinghpur', 'Punjabi Bagh', 'Cyber Hub', 'Adarsh Nagar',\n",
       "       'Dwarka Sector 21', 'Kherki Daula Toll', 'Ghitorni Village',\n",
       "       'GTB Nagar', 'Madipur', 'Anand Vihar', 'Rajiv Nagar',\n",
       "       'Mansarovar Park', 'Botanical Garden', 'IMT Manesar',\n",
       "       'Old Gurgaon', 'Barakhamba Road', 'Saket', 'Vishwavidyalaya',\n",
       "       'Preet Vihar', 'Nehru Place', 'Shahdara', 'Noida Film City',\n",
       "       'Mandi House', 'Janakpuri', 'Udyog Vihar Phase 4',\n",
       "       'Civil Lines Gurgaon', 'Karkarduma', 'Tagore Garden',\n",
       "       'Noida Extension', 'Anand Vihar ISBT', 'Central Secretariat',\n",
       "       'Hauz Rani', 'Palam Vihar', 'RK Puram', 'Basai Dhankot',\n",
       "       'Badarpur', 'Ramesh Nagar', 'Akshardham', 'Yamuna Bank',\n",
       "       'IGI Airport', 'New Colony', 'Green Park', 'ITO', 'Mehrauli',\n",
       "       'New Delhi Railway Station', 'Mundka', 'India Gate', 'Pitampura',\n",
       "       'Netaji Subhash Place', 'Indraprastha', 'Rohini', 'Chirag Delhi',\n",
       "       'Pataudi Chowk', 'Karol Bagh', 'Vaishali', 'IFFCO Chowk',\n",
       "       'Noida Sector 62', 'Saidulajab', 'Jasola', 'Tis Hazari',\n",
       "       'Udyog Bhawan', 'Saket A Block', 'Mayur Vihar',\n",
       "       'Gurgaon Sector 29', 'Ashram', 'Badshahpur', 'DLF Phase 3',\n",
       "       'Greater Noida', 'IGNOU Road', 'Bahadurgarh', 'Chandni Chowk',\n",
       "       'Shastri Park', 'Nawada', 'Kaushambi', 'Qutub Minar', 'Vinobapuri',\n",
       "       'Chanakyapuri', 'Vidhan Sabha', 'Tilak Nagar', 'Laxmi Nagar',\n",
       "       'Panchsheel Park', 'Nirman Vihar', 'Jama Masjid', 'Aya Nagar',\n",
       "       'Hauz Khas', 'Meerut', 'Bhiwadi', 'Azadpur', 'Sohna Road',\n",
       "       'Shivaji Park', 'Greater Kailash', 'Okhla', 'Pragati Maidan',\n",
       "       'Raj Nagar Extension', 'Lajpat Nagar', 'Keshav Puram',\n",
       "       'Satguru Ram Singh Marg', 'Faridabad Sector 15', 'Kashmere Gate',\n",
       "       'Samaypur Badli', 'Jor Bagh', 'DLF City Court', 'Paharganj',\n",
       "       'Delhi Gate', 'Vasant Kunj', 'Dilshad Garden', 'Golf Course Road',\n",
       "       'Subhash Nagar', 'Sadar Bazar Gurgaon', 'Sushant Lok',\n",
       "       'Bhikaji Cama Place', 'Arjangarh', 'Hero Honda Chowk', 'Ghitorni',\n",
       "       'Maidan Garhi', 'Pulbangash', 'Sarai Kale Khan', 'Rohini West',\n",
       "       'Moti Nagar', 'Udyog Vihar', 'Gwal Pahari', 'South Extension',\n",
       "       'Moolchand', 'AIIMS', 'Peeragarhi', 'Ambience Mall', 'Ghaziabad',\n",
       "       'Kalkaji', 'Panipat', 'Lok Kalyan Marg', 'Ashok Park Main',\n",
       "       'Tughlakabad', 'Shastri Nagar', 'Rohini East', 'Uttam Nagar',\n",
       "       'Paschim Vihar', 'Indirapuram', 'Sikanderpur', 'INA Market',\n",
       "       'Kashmere Gate ISBT', 'Sultanpur', 'Rajouri Garden',\n",
       "       'Vatika Chowk', 'Ardee City', 'Gurgaon Railway Station', 'Jhilmil',\n",
       "       'Ashok Vihar', 'Connaught Place', 'Chhatarpur', 'Rajiv Chowk',\n",
       "       'Subhash Chowk', 'Manesar', 'Rithala', 'Govindpuri', 'IIT Delhi',\n",
       "       'Jahangirpuri', 'Kirti Nagar', 'MG Road', 'Dwarka Mor',\n",
       "       'Huda City Centre', 'Patel Chowk', 'Welcome', 'Seelampur',\n",
       "       'Model Town', 'Kadarpur', 'Sarojini Nagar', 'Kanhaiya Nagar',\n",
       "       'Khandsa', 'Lal Quila', 'Noida Sector 18', 'Sonipat', 'Munirka'],\n",
       "      dtype=object)"
      ]
     },
     "execution_count": 129,
     "metadata": {},
     "output_type": "execute_result"
    }
   ],
   "source": [
    "# printing all the locations\n",
    "data['Drop Location'].unique()"
   ]
  },
  {
   "cell_type": "code",
   "execution_count": 86,
   "metadata": {},
   "outputs": [
    {
     "data": {
      "text/plain": [
       "count    139500.000000\n",
       "mean         18.014159\n",
       "std          16.206826\n",
       "min           0.000000\n",
       "25%           0.000000\n",
       "50%          15.210000\n",
       "75%          31.990000\n",
       "max          50.000000\n",
       "Name: Ride Distance, dtype: float64"
      ]
     },
     "execution_count": 86,
     "metadata": {},
     "output_type": "execute_result"
    }
   ],
   "source": [
    "# Analysing the stats of Ride distance\n",
    "data['Ride Distance'].describe()"
   ]
  },
  {
   "cell_type": "code",
   "execution_count": 130,
   "metadata": {},
   "outputs": [
    {
     "data": {
      "image/png": "[encoded data removed]",
      "text/plain": [
       "<Figure size 640x480 with 1 Axes>"
      ]
     },
     "metadata": {},
     "output_type": "display_data"
    }
   ],
   "source": [
    "sns.boxplot(data['Ride Distance'])\n",
    "plt.title(\"Box plot for Ride Distance\")\n",
    "plt.show()"
   ]
  },
  {
   "cell_type": "code",
   "execution_count": 131,
   "metadata": {},
   "outputs": [
    {
     "data": {
      "image/png": "[encoded data removed]",
      "text/plain": [
       "<Figure size 640x480 with 1 Axes>"
      ]
     },
     "metadata": {},
     "output_type": "display_data"
    }
   ],
   "source": [
    "sns.boxplot(data['Booking Value'])\n",
    "plt.title(\"Box plot for Booking Value\")\n",
    "plt.show()"
   ]
  },
  {
   "cell_type": "code",
   "execution_count": 89,
   "metadata": {},
   "outputs": [
    {
     "data": {
      "text/plain": [
       "count    139500.000000\n",
       "mean        371.657226\n",
       "std         406.609801\n",
       "min           0.000000\n",
       "25%           0.000000\n",
       "50%         282.000000\n",
       "75%         557.000000\n",
       "max        4277.000000\n",
       "Name: Booking Value, dtype: float64"
      ]
     },
     "execution_count": 89,
     "metadata": {},
     "output_type": "execute_result"
    }
   ],
   "source": [
    "# Analysing the stats of Booking value\n",
    "\n",
    "data['Booking Value'].describe()"
   ]
  },
  {
   "cell_type": "code",
   "execution_count": 132,
   "metadata": {},
   "outputs": [
    {
     "name": "stdout",
     "output_type": "stream",
     "text": [
      "Vehicle Type\n",
      "Auto             370.730094\n",
      "Bike             372.975017\n",
      "Go Mini          372.008780\n",
      "Go Sedan         372.094794\n",
      "Premier Sedan    372.843681\n",
      "Uber XL          369.625544\n",
      "eBike            368.819183\n",
      "Name: Booking Value, dtype: float64\n",
      "Vehicle Type\n",
      "Auto             4220.0\n",
      "Bike             4228.0\n",
      "Go Mini          4277.0\n",
      "Go Sedan         4088.0\n",
      "Premier Sedan    4008.0\n",
      "Uber XL          3703.0\n",
      "eBike            4093.0\n",
      "Name: Booking Value, dtype: float64\n"
     ]
    }
   ],
   "source": [
    "# kinds of vehicle wise mean and max booking value\n",
    "print(data.groupby('Vehicle Type')['Booking Value'].mean())\n",
    "print(data.groupby('Vehicle Type')['Booking Value'].max())"
   ]
  },
  {
   "cell_type": "code",
   "execution_count": 133,
   "metadata": {},
   "outputs": [
    {
     "name": "stdout",
     "output_type": "stream",
     "text": [
      "Vehicle Type\n",
      "Auto             18.009544\n",
      "Bike             18.019717\n",
      "Go Mini          18.034637\n",
      "Go Sedan         17.902133\n",
      "Premier Sedan    17.998701\n",
      "Uber XL          17.974555\n",
      "eBike            18.291323\n",
      "Name: Ride Distance, dtype: float64\n",
      "Vehicle Type\n",
      "Auto             50.00\n",
      "Bike             50.00\n",
      "Go Mini          50.00\n",
      "Go Sedan         50.00\n",
      "Premier Sedan    49.99\n",
      "Uber XL          49.99\n",
      "eBike            49.98\n",
      "Name: Ride Distance, dtype: float64\n"
     ]
    }
   ],
   "source": [
    "# kinds of vehicle wise mean and max Ride Distance\n",
    "\n",
    "print(data.groupby('Vehicle Type')['Ride Distance'].mean())\n",
    "print(data.groupby('Vehicle Type')['Ride Distance'].max())"
   ]
  },
  {
   "cell_type": "code",
   "execution_count": 92,
   "metadata": {},
   "outputs": [
    {
     "name": "stdout",
     "output_type": "stream",
     "text": [
      "Reason for cancelling by Customer\n",
      "Not Applicable                                  129000\n",
      "Wrong Address                                     2362\n",
      "Change of plans                                   2353\n",
      "Driver is not moving towards pickup location      2335\n",
      "Driver asked to cancel                            2295\n",
      "AC is not working                                 1155\n",
      "Name: count, dtype: int64\n",
      "Driver Cancellation Reason\n",
      "Not Applicable                         112500\n",
      "Customer related issue                   6837\n",
      "The customer was coughing/sick           6751\n",
      "Personal & Car related issues            6726\n",
      "More than permitted people in there      6686\n",
      "Name: count, dtype: int64\n"
     ]
    }
   ],
   "source": [
    "# Analysing the reason for ride cancellation\n",
    "print(data['Reason for cancelling by Customer'].value_counts())\n",
    "print(data['Driver Cancellation Reason'].value_counts())"
   ]
  },
  {
   "cell_type": "markdown",
   "metadata": {},
   "source": [
    "<h5 style=\"color:red; text-size:10px\">Analysing Top most used vehicle-AUTO</h5>"
   ]
  },
  {
   "cell_type": "code",
   "execution_count": 94,
   "metadata": {},
   "outputs": [],
   "source": [
    "Auto=data[data['Vehicle Type']=='Auto'][['Booking Value', 'Ride Distance', 'Avg VTAT', 'Avg CTAT']]"
   ]
  },
  {
   "cell_type": "code",
   "execution_count": 95,
   "metadata": {},
   "outputs": [
    {
     "data": {
      "text/html": [
       "<div>\n",
       "<style scoped>\n",
       "    .dataframe tbody tr th:only-of-type {\n",
       "        vertical-align: middle;\n",
       "    }\n",
       "\n",
       "    .dataframe tbody tr th {\n",
       "        vertical-align: top;\n",
       "    }\n",
       "\n",
       "    .dataframe thead th {\n",
       "        text-align: right;\n",
       "    }\n",
       "</style>\n",
       "<table border=\"1\" class=\"dataframe\">\n",
       "  <thead>\n",
       "    <tr style=\"text-align: right;\">\n",
       "      <th></th>\n",
       "      <th>Booking Value</th>\n",
       "      <th>Ride Distance</th>\n",
       "      <th>Avg VTAT</th>\n",
       "      <th>Avg CTAT</th>\n",
       "    </tr>\n",
       "  </thead>\n",
       "  <tbody>\n",
       "    <tr>\n",
       "      <th>2</th>\n",
       "      <td>627.0</td>\n",
       "      <td>13.58</td>\n",
       "      <td>13.4</td>\n",
       "      <td>25.8</td>\n",
       "    </tr>\n",
       "    <tr>\n",
       "      <th>5</th>\n",
       "      <td>316.0</td>\n",
       "      <td>4.85</td>\n",
       "      <td>5.1</td>\n",
       "      <td>18.1</td>\n",
       "    </tr>\n",
       "    <tr>\n",
       "      <th>7</th>\n",
       "      <td>136.0</td>\n",
       "      <td>6.56</td>\n",
       "      <td>12.1</td>\n",
       "      <td>16.5</td>\n",
       "    </tr>\n",
       "    <tr>\n",
       "      <th>9</th>\n",
       "      <td>135.0</td>\n",
       "      <td>10.36</td>\n",
       "      <td>6.1</td>\n",
       "      <td>26.0</td>\n",
       "    </tr>\n",
       "    <tr>\n",
       "      <th>10</th>\n",
       "      <td>181.0</td>\n",
       "      <td>19.84</td>\n",
       "      <td>7.7</td>\n",
       "      <td>18.9</td>\n",
       "    </tr>\n",
       "    <tr>\n",
       "      <th>...</th>\n",
       "      <td>...</td>\n",
       "      <td>...</td>\n",
       "      <td>...</td>\n",
       "      <td>...</td>\n",
       "    </tr>\n",
       "    <tr>\n",
       "      <th>149979</th>\n",
       "      <td>0.0</td>\n",
       "      <td>0.00</td>\n",
       "      <td>5.9</td>\n",
       "      <td>28.8</td>\n",
       "    </tr>\n",
       "    <tr>\n",
       "      <th>149989</th>\n",
       "      <td>75.0</td>\n",
       "      <td>8.33</td>\n",
       "      <td>14.2</td>\n",
       "      <td>22.8</td>\n",
       "    </tr>\n",
       "    <tr>\n",
       "      <th>149990</th>\n",
       "      <td>0.0</td>\n",
       "      <td>0.00</td>\n",
       "      <td>10.7</td>\n",
       "      <td>28.8</td>\n",
       "    </tr>\n",
       "    <tr>\n",
       "      <th>149991</th>\n",
       "      <td>597.0</td>\n",
       "      <td>27.91</td>\n",
       "      <td>11.2</td>\n",
       "      <td>30.8</td>\n",
       "    </tr>\n",
       "    <tr>\n",
       "      <th>149998</th>\n",
       "      <td>333.0</td>\n",
       "      <td>45.54</td>\n",
       "      <td>6.9</td>\n",
       "      <td>39.6</td>\n",
       "    </tr>\n",
       "  </tbody>\n",
       "</table>\n",
       "<p>34738 rows × 4 columns</p>\n",
       "</div>"
      ],
      "text/plain": [
       "        Booking Value  Ride Distance  Avg VTAT  Avg CTAT\n",
       "2               627.0          13.58      13.4      25.8\n",
       "5               316.0           4.85       5.1      18.1\n",
       "7               136.0           6.56      12.1      16.5\n",
       "9               135.0          10.36       6.1      26.0\n",
       "10              181.0          19.84       7.7      18.9\n",
       "...               ...            ...       ...       ...\n",
       "149979            0.0           0.00       5.9      28.8\n",
       "149989           75.0           8.33      14.2      22.8\n",
       "149990            0.0           0.00      10.7      28.8\n",
       "149991          597.0          27.91      11.2      30.8\n",
       "149998          333.0          45.54       6.9      39.6\n",
       "\n",
       "[34738 rows x 4 columns]"
      ]
     },
     "execution_count": 95,
     "metadata": {},
     "output_type": "execute_result"
    }
   ],
   "source": [
    "Auto"
   ]
  },
  {
   "cell_type": "code",
   "execution_count": 96,
   "metadata": {},
   "outputs": [],
   "source": [
    "# calculating Price per Kilometer\n",
    "Auto['PpK']=(Auto['Booking Value']/Auto['Ride Distance'])"
   ]
  },
  {
   "cell_type": "code",
   "execution_count": 97,
   "metadata": {},
   "outputs": [
    {
     "data": {
      "text/html": [
       "<div>\n",
       "<style scoped>\n",
       "    .dataframe tbody tr th:only-of-type {\n",
       "        vertical-align: middle;\n",
       "    }\n",
       "\n",
       "    .dataframe tbody tr th {\n",
       "        vertical-align: top;\n",
       "    }\n",
       "\n",
       "    .dataframe thead th {\n",
       "        text-align: right;\n",
       "    }\n",
       "</style>\n",
       "<table border=\"1\" class=\"dataframe\">\n",
       "  <thead>\n",
       "    <tr style=\"text-align: right;\">\n",
       "      <th></th>\n",
       "      <th>Booking Value</th>\n",
       "      <th>Ride Distance</th>\n",
       "      <th>Avg VTAT</th>\n",
       "      <th>Avg CTAT</th>\n",
       "      <th>PpK</th>\n",
       "    </tr>\n",
       "  </thead>\n",
       "  <tbody>\n",
       "    <tr>\n",
       "      <th>2</th>\n",
       "      <td>627.0</td>\n",
       "      <td>13.58</td>\n",
       "      <td>13.4</td>\n",
       "      <td>25.8</td>\n",
       "      <td>46.170839</td>\n",
       "    </tr>\n",
       "    <tr>\n",
       "      <th>5</th>\n",
       "      <td>316.0</td>\n",
       "      <td>4.85</td>\n",
       "      <td>5.1</td>\n",
       "      <td>18.1</td>\n",
       "      <td>65.154639</td>\n",
       "    </tr>\n",
       "    <tr>\n",
       "      <th>7</th>\n",
       "      <td>136.0</td>\n",
       "      <td>6.56</td>\n",
       "      <td>12.1</td>\n",
       "      <td>16.5</td>\n",
       "      <td>20.731707</td>\n",
       "    </tr>\n",
       "    <tr>\n",
       "      <th>9</th>\n",
       "      <td>135.0</td>\n",
       "      <td>10.36</td>\n",
       "      <td>6.1</td>\n",
       "      <td>26.0</td>\n",
       "      <td>13.030888</td>\n",
       "    </tr>\n",
       "    <tr>\n",
       "      <th>10</th>\n",
       "      <td>181.0</td>\n",
       "      <td>19.84</td>\n",
       "      <td>7.7</td>\n",
       "      <td>18.9</td>\n",
       "      <td>9.122984</td>\n",
       "    </tr>\n",
       "    <tr>\n",
       "      <th>15</th>\n",
       "      <td>410.0</td>\n",
       "      <td>34.76</td>\n",
       "      <td>8.5</td>\n",
       "      <td>36.9</td>\n",
       "      <td>11.795167</td>\n",
       "    </tr>\n",
       "    <tr>\n",
       "      <th>21</th>\n",
       "      <td>183.0</td>\n",
       "      <td>4.50</td>\n",
       "      <td>7.0</td>\n",
       "      <td>21.3</td>\n",
       "      <td>40.666667</td>\n",
       "    </tr>\n",
       "    <tr>\n",
       "      <th>24</th>\n",
       "      <td>767.0</td>\n",
       "      <td>7.39</td>\n",
       "      <td>13.6</td>\n",
       "      <td>25.2</td>\n",
       "      <td>103.788904</td>\n",
       "    </tr>\n",
       "    <tr>\n",
       "      <th>26</th>\n",
       "      <td>0.0</td>\n",
       "      <td>0.00</td>\n",
       "      <td>11.5</td>\n",
       "      <td>28.8</td>\n",
       "      <td>NaN</td>\n",
       "    </tr>\n",
       "    <tr>\n",
       "      <th>29</th>\n",
       "      <td>2847.0</td>\n",
       "      <td>39.21</td>\n",
       "      <td>8.9</td>\n",
       "      <td>31.1</td>\n",
       "      <td>72.609028</td>\n",
       "    </tr>\n",
       "  </tbody>\n",
       "</table>\n",
       "</div>"
      ],
      "text/plain": [
       "    Booking Value  Ride Distance  Avg VTAT  Avg CTAT         PpK\n",
       "2           627.0          13.58      13.4      25.8   46.170839\n",
       "5           316.0           4.85       5.1      18.1   65.154639\n",
       "7           136.0           6.56      12.1      16.5   20.731707\n",
       "9           135.0          10.36       6.1      26.0   13.030888\n",
       "10          181.0          19.84       7.7      18.9    9.122984\n",
       "15          410.0          34.76       8.5      36.9   11.795167\n",
       "21          183.0           4.50       7.0      21.3   40.666667\n",
       "24          767.0           7.39      13.6      25.2  103.788904\n",
       "26            0.0           0.00      11.5      28.8         NaN\n",
       "29         2847.0          39.21       8.9      31.1   72.609028"
      ]
     },
     "execution_count": 97,
     "metadata": {},
     "output_type": "execute_result"
    }
   ],
   "source": [
    "Auto.head(10)"
   ]
  },
  {
   "cell_type": "code",
   "execution_count": 135,
   "metadata": {},
   "outputs": [
    {
     "data": {
      "text/plain": [
       "Text(0.5, 1.0, 'Ride Distance vs Averege Price per Kilometer in AUTO')"
      ]
     },
     "execution_count": 135,
     "metadata": {},
     "output_type": "execute_result"
    },
    {
     "data": {
      "image/png": "[encoded data removed]",
      "text/plain": [
       "<Figure size 1500x600 with 1 Axes>"
      ]
     },
     "metadata": {},
     "output_type": "display_data"
    }
   ],
   "source": [
    "plt.figure(figsize=(15,6))\n",
    "sns.lineplot(Auto,x='PpK', y='Ride Distance')\n",
    "plt.title('Ride Distance vs Averege Price per Kilometer in AUTO')"
   ]
  },
  {
   "cell_type": "code",
   "execution_count": 99,
   "metadata": {},
   "outputs": [
    {
     "data": {
      "text/html": [
       "<div>\n",
       "<style scoped>\n",
       "    .dataframe tbody tr th:only-of-type {\n",
       "        vertical-align: middle;\n",
       "    }\n",
       "\n",
       "    .dataframe tbody tr th {\n",
       "        vertical-align: top;\n",
       "    }\n",
       "\n",
       "    .dataframe thead th {\n",
       "        text-align: right;\n",
       "    }\n",
       "</style>\n",
       "<table border=\"1\" class=\"dataframe\">\n",
       "  <thead>\n",
       "    <tr style=\"text-align: right;\">\n",
       "      <th></th>\n",
       "      <th>Booking Value</th>\n",
       "      <th>Ride Distance</th>\n",
       "      <th>Avg VTAT</th>\n",
       "      <th>Avg CTAT</th>\n",
       "      <th>PpK</th>\n",
       "    </tr>\n",
       "  </thead>\n",
       "  <tbody>\n",
       "    <tr>\n",
       "      <th>29078</th>\n",
       "      <td>1483.0</td>\n",
       "      <td>1.34</td>\n",
       "      <td>5.8</td>\n",
       "      <td>29.2</td>\n",
       "      <td>1106.716418</td>\n",
       "    </tr>\n",
       "    <tr>\n",
       "      <th>38945</th>\n",
       "      <td>3487.0</td>\n",
       "      <td>2.35</td>\n",
       "      <td>3.9</td>\n",
       "      <td>29.7</td>\n",
       "      <td>1483.829787</td>\n",
       "    </tr>\n",
       "    <tr>\n",
       "      <th>52699</th>\n",
       "      <td>1417.0</td>\n",
       "      <td>1.16</td>\n",
       "      <td>8.6</td>\n",
       "      <td>12.7</td>\n",
       "      <td>1221.551724</td>\n",
       "    </tr>\n",
       "    <tr>\n",
       "      <th>78576</th>\n",
       "      <td>3491.0</td>\n",
       "      <td>2.69</td>\n",
       "      <td>3.0</td>\n",
       "      <td>17.0</td>\n",
       "      <td>1297.769517</td>\n",
       "    </tr>\n",
       "  </tbody>\n",
       "</table>\n",
       "</div>"
      ],
      "text/plain": [
       "       Booking Value  Ride Distance  Avg VTAT  Avg CTAT          PpK\n",
       "29078         1483.0           1.34       5.8      29.2  1106.716418\n",
       "38945         3487.0           2.35       3.9      29.7  1483.829787\n",
       "52699         1417.0           1.16       8.6      12.7  1221.551724\n",
       "78576         3491.0           2.69       3.0      17.0  1297.769517"
      ]
     },
     "execution_count": 99,
     "metadata": {},
     "output_type": "execute_result"
    }
   ],
   "source": [
    "costly_Auto_Rides=Auto[Auto['PpK']>1000]\n",
    "costly_Auto_Rides"
   ]
  },
  {
   "cell_type": "code",
   "execution_count": 100,
   "metadata": {},
   "outputs": [
    {
     "name": "stdout",
     "output_type": "stream",
     "text": [
      "        Booking Value  Ride Distance  Avg VTAT  Avg CTAT        PpK\n",
      "33              134.0          46.66       2.0      19.4   2.871839\n",
      "91             2169.0          44.25       8.6      32.7  49.016949\n",
      "270             932.0          40.21       5.3      43.6  23.178314\n",
      "287             679.0          47.56       3.8      20.1  14.276703\n",
      "316             459.0          46.74      13.3      41.6   9.820282\n",
      "...               ...            ...       ...       ...        ...\n",
      "149945          959.0          44.42      13.6      32.9  21.589374\n",
      "149949          505.0          40.03      14.2      40.1  12.615538\n",
      "149951          228.0          42.45      10.1      16.9   5.371025\n",
      "149964          643.0          42.97       3.9      39.6  14.963928\n",
      "149998          333.0          45.54       6.9      39.6   7.312253\n",
      "\n",
      "[4806 rows x 5 columns]\n"
     ]
    },
    {
     "data": {
      "text/plain": [
       "<Axes: xlabel='PpK', ylabel='Ride Distance'>"
      ]
     },
     "execution_count": 100,
     "metadata": {},
     "output_type": "execute_result"
    },
    {
     "data": {
      "image/png": "[encoded data removed]",
      "text/plain": [
       "<Figure size 640x480 with 1 Axes>"
      ]
     },
     "metadata": {},
     "output_type": "display_data"
    }
   ],
   "source": [
    "Long_Auto_Rides=Auto[Auto['Ride Distance']>40]\n",
    "print(Long_Auto_Rides)\n",
    "sns.lineplot(x=Long_Auto_Rides['PpK'], y=Long_Auto_Rides['Ride Distance'])"
   ]
  },
  {
   "cell_type": "code",
   "execution_count": 101,
   "metadata": {},
   "outputs": [
    {
     "data": {
      "text/html": [
       "<div>\n",
       "<style scoped>\n",
       "    .dataframe tbody tr th:only-of-type {\n",
       "        vertical-align: middle;\n",
       "    }\n",
       "\n",
       "    .dataframe tbody tr th {\n",
       "        vertical-align: top;\n",
       "    }\n",
       "\n",
       "    .dataframe thead th {\n",
       "        text-align: right;\n",
       "    }\n",
       "</style>\n",
       "<table border=\"1\" class=\"dataframe\">\n",
       "  <thead>\n",
       "    <tr style=\"text-align: right;\">\n",
       "      <th></th>\n",
       "      <th></th>\n",
       "      <th>count</th>\n",
       "    </tr>\n",
       "    <tr>\n",
       "      <th>Vehicle Type</th>\n",
       "      <th>Route</th>\n",
       "      <th></th>\n",
       "    </tr>\n",
       "  </thead>\n",
       "  <tbody>\n",
       "    <tr>\n",
       "      <th rowspan=\"5\" valign=\"top\">Auto</th>\n",
       "      <th>Badarpur--&gt;Gurgaon Railway Station</th>\n",
       "      <td>7</td>\n",
       "    </tr>\n",
       "    <tr>\n",
       "      <th>Barakhamba Road--&gt;Sarojini Nagar</th>\n",
       "      <td>7</td>\n",
       "    </tr>\n",
       "    <tr>\n",
       "      <th>Ghaziabad--&gt;Karkarduma</th>\n",
       "      <td>7</td>\n",
       "    </tr>\n",
       "    <tr>\n",
       "      <th>Jasola--&gt;South Extension</th>\n",
       "      <td>7</td>\n",
       "    </tr>\n",
       "    <tr>\n",
       "      <th>Lok Kalyan Marg--&gt;Sikanderpur</th>\n",
       "      <td>7</td>\n",
       "    </tr>\n",
       "    <tr>\n",
       "      <th rowspan=\"5\" valign=\"top\">Bike</th>\n",
       "      <th>Gurgaon Railway Station--&gt;Munirka</th>\n",
       "      <td>6</td>\n",
       "    </tr>\n",
       "    <tr>\n",
       "      <th>Connaught Place--&gt;Paharganj</th>\n",
       "      <td>5</td>\n",
       "    </tr>\n",
       "    <tr>\n",
       "      <th>GTB Nagar--&gt;Ardee City</th>\n",
       "      <td>5</td>\n",
       "    </tr>\n",
       "    <tr>\n",
       "      <th>India Gate--&gt;Nawada</th>\n",
       "      <td>5</td>\n",
       "    </tr>\n",
       "    <tr>\n",
       "      <th>Jama Masjid--&gt;Saket A Block</th>\n",
       "      <td>5</td>\n",
       "    </tr>\n",
       "    <tr>\n",
       "      <th rowspan=\"5\" valign=\"top\">Go Mini</th>\n",
       "      <th>Bhiwadi--&gt;Ardee City</th>\n",
       "      <td>6</td>\n",
       "    </tr>\n",
       "    <tr>\n",
       "      <th>Khandsa--&gt;Akshardham</th>\n",
       "      <td>6</td>\n",
       "    </tr>\n",
       "    <tr>\n",
       "      <th>Mehrauli--&gt;Ashram</th>\n",
       "      <td>6</td>\n",
       "    </tr>\n",
       "    <tr>\n",
       "      <th>Model Town--&gt;Jhilmil</th>\n",
       "      <td>6</td>\n",
       "    </tr>\n",
       "    <tr>\n",
       "      <th>Pragati Maidan--&gt;Shastri Park</th>\n",
       "      <td>6</td>\n",
       "    </tr>\n",
       "    <tr>\n",
       "      <th rowspan=\"5\" valign=\"top\">Go Sedan</th>\n",
       "      <th>Bhiwadi--&gt;Hauz Rani</th>\n",
       "      <td>6</td>\n",
       "    </tr>\n",
       "    <tr>\n",
       "      <th>Manesar--&gt;Vishwavidyalaya</th>\n",
       "      <td>6</td>\n",
       "    </tr>\n",
       "    <tr>\n",
       "      <th>Sarai Kale Khan--&gt;Munirka</th>\n",
       "      <td>6</td>\n",
       "    </tr>\n",
       "    <tr>\n",
       "      <th>Seelampur--&gt;Indraprastha</th>\n",
       "      <td>6</td>\n",
       "    </tr>\n",
       "    <tr>\n",
       "      <th>Sonipat--&gt;RK Puram</th>\n",
       "      <td>6</td>\n",
       "    </tr>\n",
       "    <tr>\n",
       "      <th rowspan=\"5\" valign=\"top\">Premier Sedan</th>\n",
       "      <th>Barakhamba Road--&gt;MG Road</th>\n",
       "      <td>5</td>\n",
       "    </tr>\n",
       "    <tr>\n",
       "      <th>ITO--&gt;INA Market</th>\n",
       "      <td>5</td>\n",
       "    </tr>\n",
       "    <tr>\n",
       "      <th>Kirti Nagar--&gt;Shahdara</th>\n",
       "      <td>5</td>\n",
       "    </tr>\n",
       "    <tr>\n",
       "      <th>Malviya Nagar--&gt;Udyog Vihar</th>\n",
       "      <td>5</td>\n",
       "    </tr>\n",
       "    <tr>\n",
       "      <th>Rithala--&gt;Basai Dhankot</th>\n",
       "      <td>5</td>\n",
       "    </tr>\n",
       "    <tr>\n",
       "      <th rowspan=\"5\" valign=\"top\">Uber XL</th>\n",
       "      <th>Ardee City--&gt;Saket</th>\n",
       "      <td>3</td>\n",
       "    </tr>\n",
       "    <tr>\n",
       "      <th>Ashok Park Main--&gt;Panchsheel Park</th>\n",
       "      <td>3</td>\n",
       "    </tr>\n",
       "    <tr>\n",
       "      <th>Aya Nagar--&gt;Kashmere Gate ISBT</th>\n",
       "      <td>3</td>\n",
       "    </tr>\n",
       "    <tr>\n",
       "      <th>Bahadurgarh--&gt;Lajpat Nagar</th>\n",
       "      <td>3</td>\n",
       "    </tr>\n",
       "    <tr>\n",
       "      <th>Jahangirpuri--&gt;Bhikaji Cama Place</th>\n",
       "      <td>3</td>\n",
       "    </tr>\n",
       "    <tr>\n",
       "      <th rowspan=\"5\" valign=\"top\">eBike</th>\n",
       "      <th>Akshardham--&gt;Sultanpur</th>\n",
       "      <td>4</td>\n",
       "    </tr>\n",
       "    <tr>\n",
       "      <th>GTB Nagar--&gt;Noida Sector 18</th>\n",
       "      <td>4</td>\n",
       "    </tr>\n",
       "    <tr>\n",
       "      <th>Paschim Vihar--&gt;Bhikaji Cama Place</th>\n",
       "      <td>4</td>\n",
       "    </tr>\n",
       "    <tr>\n",
       "      <th>Pulbangash--&gt;Kashmere Gate</th>\n",
       "      <td>4</td>\n",
       "    </tr>\n",
       "    <tr>\n",
       "      <th>Rajouri Garden--&gt;Ghitorni Village</th>\n",
       "      <td>4</td>\n",
       "    </tr>\n",
       "  </tbody>\n",
       "</table>\n",
       "</div>"
      ],
      "text/plain": [
       "                                                  count\n",
       "Vehicle Type  Route                                    \n",
       "Auto          Badarpur-->Gurgaon Railway Station      7\n",
       "              Barakhamba Road-->Sarojini Nagar        7\n",
       "              Ghaziabad-->Karkarduma                  7\n",
       "              Jasola-->South Extension                7\n",
       "              Lok Kalyan Marg-->Sikanderpur           7\n",
       "Bike          Gurgaon Railway Station-->Munirka       6\n",
       "              Connaught Place-->Paharganj             5\n",
       "              GTB Nagar-->Ardee City                  5\n",
       "              India Gate-->Nawada                     5\n",
       "              Jama Masjid-->Saket A Block             5\n",
       "Go Mini       Bhiwadi-->Ardee City                    6\n",
       "              Khandsa-->Akshardham                    6\n",
       "              Mehrauli-->Ashram                       6\n",
       "              Model Town-->Jhilmil                    6\n",
       "              Pragati Maidan-->Shastri Park           6\n",
       "Go Sedan      Bhiwadi-->Hauz Rani                     6\n",
       "              Manesar-->Vishwavidyalaya               6\n",
       "              Sarai Kale Khan-->Munirka               6\n",
       "              Seelampur-->Indraprastha                6\n",
       "              Sonipat-->RK Puram                      6\n",
       "Premier Sedan Barakhamba Road-->MG Road               5\n",
       "              ITO-->INA Market                        5\n",
       "              Kirti Nagar-->Shahdara                  5\n",
       "              Malviya Nagar-->Udyog Vihar             5\n",
       "              Rithala-->Basai Dhankot                 5\n",
       "Uber XL       Ardee City-->Saket                      3\n",
       "              Ashok Park Main-->Panchsheel Park       3\n",
       "              Aya Nagar-->Kashmere Gate ISBT          3\n",
       "              Bahadurgarh-->Lajpat Nagar              3\n",
       "              Jahangirpuri-->Bhikaji Cama Place       3\n",
       "eBike         Akshardham-->Sultanpur                  4\n",
       "              GTB Nagar-->Noida Sector 18             4\n",
       "              Paschim Vihar-->Bhikaji Cama Place      4\n",
       "              Pulbangash-->Kashmere Gate              4\n",
       "              Rajouri Garden-->Ghitorni Village       4"
      ]
     },
     "execution_count": 101,
     "metadata": {},
     "output_type": "execute_result"
    }
   ],
   "source": [
    "# Most Travelled Routes per Vehicle Type\n",
    "df=data\n",
    "df['Route']=df['Pickup Location'] +\"-->\"+ df['Drop Location']\n",
    "x=df.groupby(['Vehicle Type','Route']).size().to_frame(name='count').sort_values(['Vehicle Type', 'count'],ascending=[True, False]).groupby('Vehicle Type').head()\n",
    "x"
   ]
  },
  {
   "cell_type": "code",
   "execution_count": 102,
   "metadata": {},
   "outputs": [
    {
     "data": {
      "text/plain": [
       "Vehicle Type\n",
       "Auto             3.017296\n",
       "Bike             3.015550\n",
       "Go Mini          3.018678\n",
       "Go Sedan         2.999112\n",
       "Premier Sedan    3.021558\n",
       "Uber XL          3.044335\n",
       "eBike            3.015143\n",
       "Name: Driver Ratings, dtype: float64"
      ]
     },
     "execution_count": 102,
     "metadata": {},
     "output_type": "execute_result"
    }
   ],
   "source": [
    "# Vehicle type wise average driver ratings\n",
    "data.groupby('Vehicle Type')['Driver Ratings'].mean()"
   ]
  },
  {
   "cell_type": "code",
   "execution_count": 137,
   "metadata": {},
   "outputs": [
    {
     "data": {
      "image/png": "[encoded data removed]",
      "text/plain": [
       "<Figure size 640x480 with 1 Axes>"
      ]
     },
     "metadata": {},
     "output_type": "display_data"
    }
   ],
   "source": [
    "grp=data.groupby('Vehicle Type')['Driver Ratings'].mean().reset_index()\n",
    "sns.barplot(data=grp, x='Vehicle Type', y='Driver Ratings')\n",
    "plt.ylim(grp['Driver Ratings'].min()-0.1, grp['Driver Ratings'].max()+0.1)\n",
    "plt.xticks(rotation=45)\n",
    "plt.title(\"Vehicle Type wise Average driver rating\")\n",
    "plt.show()"
   ]
  },
  {
   "cell_type": "code",
   "execution_count": null,
   "metadata": {},
   "outputs": [],
   "source": []
  }
 ],
 "metadata": {
  "kernelspec": {
   "display_name": "Python 3",
   "language": "python",
   "name": "python3"
  },
  "language_info": {
   "codemirror_mode": {
    "name": "ipython",
    "version": 3
   },
   "file_extension": ".py",
   "mimetype": "text/x-python",
   "name": "python",
   "nbconvert_exporter": "python",
   "pygments_lexer": "ipython3",
   "version": "3.11.1"
  }
 },
 "nbformat": 4,
 "nbformat_minor": 2
}
